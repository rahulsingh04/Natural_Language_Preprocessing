{
 "cells": [
  {
   "cell_type": "code",
   "execution_count": 38,
   "id": "05adb020",
   "metadata": {},
   "outputs": [],
   "source": [
    "import pandas as pd\n",
    "import numpy as np\n",
    "from sklearn.metrics import RocCurveDisplay\n",
    "from sklearn.metrics import accuracy_score, confusion_matrix ,recall_score, roc_auc_score , roc_curve, classification_report,ConfusionMatrixDisplay\n",
    "import matplotlib.pyplot as plt\n",
    "\n",
    "def print_score(clf, X_train, y_train, X_test, y_test, train=True):\n",
    "    if train:\n",
    "        pred = clf.predict(X_train)\n",
    "        pred = np.where(pred>0.5, 1,0) ## To Find the Threshold use the Auc Roc Curve\n",
    "\n",
    "        clf_report = pd.DataFrame(classification_report(y_train, pred, output_dict=True))\n",
    "        print(\"Train Result:\\n================================================\")\n",
    "        print(f\"Accuracy Score: {accuracy_score(y_train, pred) * 100:.2f}%\")\n",
    "        print(\"_______________________________________________\")\n",
    "        print(f\"CLASSIFICATION REPORT:\\n{clf_report}\")\n",
    "        print(\"_______________________________________________\")\n",
    "        ConfusionMatrixDisplay.from_predictions(y_train, pred) \n",
    "        plt.show()\n",
    "        \n",
    "    elif train==False:\n",
    "        pred = clf.predict(X_test)\n",
    "        pred = np.where(pred>0.5, 1,0) ## To Find the Threshold use the Auc Roc Curve\n",
    "        clf_report = pd.DataFrame(classification_report(y_test, pred, output_dict=True))\n",
    "        print(\"Test Result:\\n================================================\")        \n",
    "        print(f\"Accuracy Score: {accuracy_score(y_test, pred) * 100:.2f}%\")\n",
    "        print(\"_______________________________________________\")\n",
    "        print(f\"CLASSIFICATION REPORT:\\n{clf_report}\")\n",
    "        print(\"_______________________________________________\")\n",
    "        ConfusionMatrixDisplay.from_predictions(y_test, pred) \n",
    "        plt.show()\n",
    "        \n",
    "\n",
    "pd.set_option('display.max_columns', 500)\n",
    "   ### VIF SCORE : ---------->\n",
    "from statsmodels.stats.outliers_influence import variance_inflation_factor\n",
    "from sklearn.preprocessing import StandardScaler\n",
    "def vif_score(x):\n",
    "    scaler = StandardScaler()\n",
    "    arr = scaler.fit_transform(x)\n",
    "    return pd.DataFrame([[x.columns[i] , variance_inflation_factor(arr,i)] for i in range(arr.shape[1])], \n",
    "                        columns = [\"FEATURE\" , \"VARIANCE INFLATION FACTOR\"]) "
   ]
  },
  {
   "cell_type": "code",
   "execution_count": 2,
   "id": "6fee7bae",
   "metadata": {},
   "outputs": [],
   "source": [
    "\n",
    "data = pd.read_csv(\"WELFake_Dataset.csv\",usecols=['title', 'label'])"
   ]
  },
  {
   "cell_type": "code",
   "execution_count": 3,
   "id": "e3cc8414",
   "metadata": {},
   "outputs": [
    {
     "data": {
      "text/html": [
       "<div>\n",
       "<style scoped>\n",
       "    .dataframe tbody tr th:only-of-type {\n",
       "        vertical-align: middle;\n",
       "    }\n",
       "\n",
       "    .dataframe tbody tr th {\n",
       "        vertical-align: top;\n",
       "    }\n",
       "\n",
       "    .dataframe thead th {\n",
       "        text-align: right;\n",
       "    }\n",
       "</style>\n",
       "<table border=\"1\" class=\"dataframe\">\n",
       "  <thead>\n",
       "    <tr style=\"text-align: right;\">\n",
       "      <th></th>\n",
       "      <th>title</th>\n",
       "      <th>label</th>\n",
       "    </tr>\n",
       "  </thead>\n",
       "  <tbody>\n",
       "    <tr>\n",
       "      <th>0</th>\n",
       "      <td>LAW ENFORCEMENT ON HIGH ALERT Following Threat...</td>\n",
       "      <td>1</td>\n",
       "    </tr>\n",
       "    <tr>\n",
       "      <th>1</th>\n",
       "      <td>NaN</td>\n",
       "      <td>1</td>\n",
       "    </tr>\n",
       "  </tbody>\n",
       "</table>\n",
       "</div>"
      ],
      "text/plain": [
       "                                               title  label\n",
       "0  LAW ENFORCEMENT ON HIGH ALERT Following Threat...      1\n",
       "1                                                NaN      1"
      ]
     },
     "execution_count": 3,
     "metadata": {},
     "output_type": "execute_result"
    }
   ],
   "source": [
    "data.head(2)"
   ]
  },
  {
   "cell_type": "code",
   "execution_count": 4,
   "id": "9685210e",
   "metadata": {},
   "outputs": [
    {
     "name": "stdout",
     "output_type": "stream",
     "text": [
      "shape of the data  (72134, 2)\n",
      "-------------------------------------------------------------------------------------------------------------------------\n",
      "title    558\n",
      "label      0\n",
      "dtype: int64\n",
      "----------------------------------------------------------------------------------------------------\n",
      "False    62352\n",
      "True      9782\n",
      "Name: count, dtype: int64\n"
     ]
    }
   ],
   "source": [
    "print(\"shape of the data \", data.shape)\n",
    "print(\"-\"*121)\n",
    "print(data.isnull().sum())\n",
    "print(\"-\"*100)\n",
    "print(data.duplicated().value_counts())"
   ]
  },
  {
   "cell_type": "code",
   "execution_count": 5,
   "id": "f3e9e223",
   "metadata": {},
   "outputs": [],
   "source": [
    "data = data.dropna().drop_duplicates().reset_index(drop = True)"
   ]
  },
  {
   "cell_type": "code",
   "execution_count": 6,
   "id": "579b2dd1",
   "metadata": {},
   "outputs": [
    {
     "data": {
      "text/plain": [
       "(62351, 2)"
      ]
     },
     "execution_count": 6,
     "metadata": {},
     "output_type": "execute_result"
    }
   ],
   "source": [
    "data.shape"
   ]
  },
  {
   "cell_type": "code",
   "execution_count": 7,
   "id": "4a03052d",
   "metadata": {},
   "outputs": [
    {
     "data": {
      "text/html": [
       "<div>\n",
       "<style scoped>\n",
       "    .dataframe tbody tr th:only-of-type {\n",
       "        vertical-align: middle;\n",
       "    }\n",
       "\n",
       "    .dataframe tbody tr th {\n",
       "        vertical-align: top;\n",
       "    }\n",
       "\n",
       "    .dataframe thead th {\n",
       "        text-align: right;\n",
       "    }\n",
       "</style>\n",
       "<table border=\"1\" class=\"dataframe\">\n",
       "  <thead>\n",
       "    <tr style=\"text-align: right;\">\n",
       "      <th></th>\n",
       "      <th>title</th>\n",
       "      <th>label</th>\n",
       "    </tr>\n",
       "  </thead>\n",
       "  <tbody>\n",
       "    <tr>\n",
       "      <th>0</th>\n",
       "      <td>LAW ENFORCEMENT ON HIGH ALERT Following Threat...</td>\n",
       "      <td>1</td>\n",
       "    </tr>\n",
       "  </tbody>\n",
       "</table>\n",
       "</div>"
      ],
      "text/plain": [
       "                                               title  label\n",
       "0  LAW ENFORCEMENT ON HIGH ALERT Following Threat...      1"
      ]
     },
     "execution_count": 7,
     "metadata": {},
     "output_type": "execute_result"
    }
   ],
   "source": [
    "data.head(1)"
   ]
  },
  {
   "cell_type": "code",
   "execution_count": 8,
   "id": "83c9f8b7",
   "metadata": {},
   "outputs": [],
   "source": [
    "## Get the independent feature\n",
    "x = data.drop(\"label\", axis =1 )"
   ]
  },
  {
   "cell_type": "code",
   "execution_count": 9,
   "id": "33d0d35d",
   "metadata": {},
   "outputs": [],
   "source": [
    "## Get the dependent feature \n",
    "y = data['label']"
   ]
  },
  {
   "cell_type": "code",
   "execution_count": 10,
   "id": "420c6256",
   "metadata": {},
   "outputs": [],
   "source": [
    "messages = x.copy()\n",
    "\n",
    "import re\n",
    "from nltk.stem import WordNetLemmatizer\n",
    "from nltk.corpus import stopwords\n",
    "\n",
    "lemmatizer = WordNetLemmatizer()\n",
    "stop_words = set(stopwords.words('english'))\n",
    "sentences = messages['title'].to_list()\n",
    "\n",
    "corpus = [\n",
    "    ' '.join(lemmatizer.lemmatize(word) for word in re.sub('[^a-zA-Z]', ' ', sentence.lower()).split() if word not in stop_words)\n",
    "    for sentence in sentences\n",
    "]"
   ]
  },
  {
   "cell_type": "code",
   "execution_count": null,
   "id": "65b89e02",
   "metadata": {},
   "outputs": [],
   "source": []
  },
  {
   "cell_type": "code",
   "execution_count": 11,
   "id": "83fee14a",
   "metadata": {},
   "outputs": [
    {
     "name": "stdout",
     "output_type": "stream",
     "text": [
      "2.11.0\n"
     ]
    }
   ],
   "source": [
    "import tensorflow as tf\n",
    "print(tf.__version__)"
   ]
  },
  {
   "cell_type": "code",
   "execution_count": 12,
   "id": "71c4341c",
   "metadata": {},
   "outputs": [
    {
     "data": {
      "text/plain": [
       "83963"
      ]
     },
     "execution_count": 12,
     "metadata": {},
     "output_type": "execute_result"
    }
   ],
   "source": [
    "## unique_word in a data set \n",
    "yy = ([(i.split()) for i in x['title']])\n",
    "unique_word_in_a_dataset = len(set([i for i in yy for i in i ]))\n",
    "unique_word_in_a_dataset"
   ]
  },
  {
   "cell_type": "code",
   "execution_count": 13,
   "id": "9467f23c",
   "metadata": {},
   "outputs": [],
   "source": [
    "from tensorflow.keras.layers import Embedding\n",
    "from tensorflow.keras.preprocessing.sequence import pad_sequences\n",
    "from tensorflow.keras.models import Sequential\n",
    "from tensorflow.keras.preprocessing.text import one_hot\n",
    "from tensorflow.keras.layers import LSTM,Dense"
   ]
  },
  {
   "cell_type": "code",
   "execution_count": 14,
   "id": "5893ebb9",
   "metadata": {},
   "outputs": [],
   "source": [
    "### NOW WE Will Use One Hot Encoding \n",
    "from tensorflow.keras.preprocessing.text import one_hot\n",
    "\n",
    "vocab_size = 5000\n",
    "\n",
    "one_hot_rep = [one_hot(i, vocab_size) for i in corpus]"
   ]
  },
  {
   "cell_type": "code",
   "execution_count": 15,
   "id": "61787902",
   "metadata": {},
   "outputs": [
    {
     "data": {
      "text/plain": [
       "[590, 4962, 568, 3287, 1057, 4365, 3890, 2895, 3252, 204, 705, 75]"
      ]
     },
     "execution_count": 15,
     "metadata": {},
     "output_type": "execute_result"
    }
   ],
   "source": [
    "one_hot_rep[0]"
   ]
  },
  {
   "cell_type": "code",
   "execution_count": 16,
   "id": "c01239c7",
   "metadata": {},
   "outputs": [
    {
     "data": {
      "text/plain": [
       "'law enforcement high alert following threat cop white blacklivesmatter fyf terrorist video'"
      ]
     },
     "execution_count": 16,
     "metadata": {},
     "output_type": "execute_result"
    }
   ],
   "source": [
    "corpus[0]"
   ]
  },
  {
   "cell_type": "markdown",
   "id": "c2fa40c1",
   "metadata": {},
   "source": [
    "### Embedding Representation"
   ]
  },
  {
   "cell_type": "code",
   "execution_count": 17,
   "id": "af23b617",
   "metadata": {},
   "outputs": [
    {
     "name": "stdout",
     "output_type": "stream",
     "text": [
      "max_length of the sentence in the corpus list :---> 47\n"
     ]
    }
   ],
   "source": [
    "max_sentence_length = max([len(i.split()) for i in corpus])\n",
    "print(\"max_length of the sentence in the corpus list :--->\", max_sentence_length)"
   ]
  },
  {
   "cell_type": "code",
   "execution_count": 18,
   "id": "04e21262",
   "metadata": {},
   "outputs": [
    {
     "data": {
      "text/plain": [
       "array([[   0,    0,    0, ...,  204,  705,   75],\n",
       "       [   0,    0,    0, ..., 3205, 1363,   75],\n",
       "       [   0,    0,    0, ...,  700, 2804,  634],\n",
       "       ...,\n",
       "       [   0,    0,    0, ..., 1599, 4501, 1058],\n",
       "       [   0,    0,    0, ..., 4317, 2821, 3270],\n",
       "       [   0,    0,    0, ..., 1164, 3720, 3431]])"
      ]
     },
     "execution_count": 18,
     "metadata": {},
     "output_type": "execute_result"
    }
   ],
   "source": [
    "## Pre - Padding \n",
    "sent_length = max_sentence_length\n",
    "embedded_docs = pad_sequences(one_hot_rep, maxlen=max_sentence_length, padding='pre')\n",
    "embedded_docs"
   ]
  },
  {
   "cell_type": "code",
   "execution_count": 19,
   "id": "411c3ca3",
   "metadata": {},
   "outputs": [
    {
     "name": "stdout",
     "output_type": "stream",
     "text": [
      "one hot representation 1st sentence:----> [590, 4962, 568, 3287, 1057, 4365, 3890, 2895, 3252, 204, 705, 75]\n",
      "----------------------------------------------------------------------------------------------------------------------------------\n",
      "First Sentences:------------------------> law enforcement high alert following threat cop white blacklivesmatter fyf terrorist video\n",
      "----------------------------------------------------------------------------------------------------------------------------------\n",
      "embedded document of 1st sentence:------> [   0    0    0    0    0    0    0    0    0    0    0    0    0    0\n",
      "    0    0    0    0    0    0    0    0    0    0    0    0    0    0\n",
      "    0    0    0    0    0    0    0  590 4962  568 3287 1057 4365 3890\n",
      " 2895 3252  204  705   75]\n"
     ]
    }
   ],
   "source": [
    "print(\"one hot representation 1st sentence:---->\",one_hot_rep[0])\n",
    "print(\"-\"*130)\n",
    "print(\"First Sentences:------------------------>\",corpus[0])\n",
    "print(\"-\"*130)\n",
    "print(\"embedded document of 1st sentence:------>\",embedded_docs[0])"
   ]
  },
  {
   "cell_type": "markdown",
   "id": "6e981d4f",
   "metadata": {},
   "source": [
    "## CREATING AN LSTM  MODEL ALONG WITH EMBEDDING LAYER"
   ]
  },
  {
   "cell_type": "code",
   "execution_count": 20,
   "id": "4140c155",
   "metadata": {},
   "outputs": [
    {
     "name": "stdout",
     "output_type": "stream",
     "text": [
      "Model: \"sequential\"\n",
      "_________________________________________________________________\n",
      " Layer (type)                Output Shape              Param #   \n",
      "=================================================================\n",
      " embedding (Embedding)       (None, 47, 40)            200000    \n",
      "                                                                 \n",
      " lstm (LSTM)                 (None, 100)               56400     \n",
      "                                                                 \n",
      " dense (Dense)               (None, 1)                 101       \n",
      "                                                                 \n",
      "=================================================================\n",
      "Total params: 256,501\n",
      "Trainable params: 256,501\n",
      "Non-trainable params: 0\n",
      "_________________________________________________________________\n",
      "None\n"
     ]
    }
   ],
   "source": [
    "embedding_vector_feature = 40 ##feature Representation\n",
    "model = Sequential()\n",
    "model.add(Embedding(vocab_size, embedding_vector_feature, input_length=sent_length))\n",
    "model.add(LSTM(100))\n",
    "model.add(Dense(1, activation='sigmoid'))\n",
    "model.compile(loss = 'binary_crossentropy', optimizer = 'adam', metrics=['accuracy'])\n",
    "print(model.summary())"
   ]
  },
  {
   "cell_type": "code",
   "execution_count": 21,
   "id": "29723f14",
   "metadata": {},
   "outputs": [
    {
     "name": "stdout",
     "output_type": "stream",
     "text": [
      "62351 (62351,)\n"
     ]
    }
   ],
   "source": [
    "print(len(embedded_docs), y.shape)"
   ]
  },
  {
   "cell_type": "code",
   "execution_count": 22,
   "id": "9a8c16b9",
   "metadata": {},
   "outputs": [],
   "source": [
    "import numpy as np\n",
    "x_final = np.array(embedded_docs)\n",
    "y_final = np.array(y)"
   ]
  },
  {
   "cell_type": "code",
   "execution_count": 23,
   "id": "7815ab69",
   "metadata": {},
   "outputs": [
    {
     "name": "stdout",
     "output_type": "stream",
     "text": [
      "x_final.shape (62351, 47)\n",
      "y_final.shape (62351,)\n"
     ]
    }
   ],
   "source": [
    "print(\"x_final.shape\",x_final.shape)\n",
    "print(\"y_final.shape\",y_final.shape)"
   ]
  },
  {
   "cell_type": "code",
   "execution_count": 24,
   "id": "e25f4528",
   "metadata": {},
   "outputs": [],
   "source": [
    "from sklearn.model_selection import train_test_split\n",
    "x_train,x_test,y_train,y_test = train_test_split(x_final,y_final, test_size=0.5)"
   ]
  },
  {
   "cell_type": "code",
   "execution_count": 25,
   "id": "1d876771",
   "metadata": {},
   "outputs": [
    {
     "name": "stdout",
     "output_type": "stream",
     "text": [
      "x_train.shape (31175, 47)\n",
      "x_test.shape (31176, 47)\n",
      "y_train.shape (31175,)\n",
      "y_test.shape (31176,)\n"
     ]
    }
   ],
   "source": [
    "print(\"x_train.shape\",x_train.shape)\n",
    "print(\"x_test.shape\",x_test.shape)\n",
    "\n",
    "print(\"y_train.shape\",y_train.shape)\n",
    "print(\"y_test.shape\",y_test.shape)"
   ]
  },
  {
   "cell_type": "markdown",
   "id": "d93d1a21",
   "metadata": {},
   "source": [
    "## Model Training"
   ]
  },
  {
   "cell_type": "code",
   "execution_count": 26,
   "id": "1d78fd63",
   "metadata": {},
   "outputs": [
    {
     "name": "stdout",
     "output_type": "stream",
     "text": [
      "Epoch 1/10\n",
      "488/488 [==============================] - 54s 101ms/step - loss: 0.3493 - accuracy: 0.8350 - val_loss: 0.2879 - val_accuracy: 0.8726\n",
      "Epoch 2/10\n",
      "488/488 [==============================] - 44s 90ms/step - loss: 0.2300 - accuracy: 0.9041 - val_loss: 0.2912 - val_accuracy: 0.8724\n",
      "Epoch 3/10\n",
      "488/488 [==============================] - 44s 91ms/step - loss: 0.1966 - accuracy: 0.9197 - val_loss: 0.3162 - val_accuracy: 0.8681\n",
      "Epoch 4/10\n",
      "488/488 [==============================] - 44s 90ms/step - loss: 0.1696 - accuracy: 0.9315 - val_loss: 0.3394 - val_accuracy: 0.8671\n",
      "Epoch 5/10\n",
      "488/488 [==============================] - 44s 91ms/step - loss: 0.1417 - accuracy: 0.9437 - val_loss: 0.3780 - val_accuracy: 0.8653\n",
      "Epoch 6/10\n",
      "488/488 [==============================] - 45s 93ms/step - loss: 0.1201 - accuracy: 0.9537 - val_loss: 0.4187 - val_accuracy: 0.8567\n",
      "Epoch 7/10\n",
      "488/488 [==============================] - 45s 93ms/step - loss: 0.1014 - accuracy: 0.9613 - val_loss: 0.4896 - val_accuracy: 0.8560\n",
      "Epoch 8/10\n",
      "488/488 [==============================] - 44s 91ms/step - loss: 0.0871 - accuracy: 0.9668 - val_loss: 0.5669 - val_accuracy: 0.8541\n",
      "Epoch 9/10\n",
      "488/488 [==============================] - 44s 91ms/step - loss: 0.0708 - accuracy: 0.9738 - val_loss: 0.6338 - val_accuracy: 0.8513\n",
      "Epoch 10/10\n",
      "488/488 [==============================] - 45s 92ms/step - loss: 0.0584 - accuracy: 0.9784 - val_loss: 0.6708 - val_accuracy: 0.8506\n"
     ]
    },
    {
     "data": {
      "text/plain": [
       "<keras.callbacks.History at 0x19535a20b80>"
      ]
     },
     "execution_count": 26,
     "metadata": {},
     "output_type": "execute_result"
    }
   ],
   "source": [
    "### Final Training \n",
    "model.fit(x_train, y_train, validation_data=(x_test,y_test), epochs=10, batch_size=64)"
   ]
  },
  {
   "cell_type": "markdown",
   "id": "dc888c87",
   "metadata": {},
   "source": [
    "## PERFORMANCE METRICS AND ACCURACY :--->"
   ]
  },
  {
   "cell_type": "code",
   "execution_count": 27,
   "id": "48f270b5",
   "metadata": {},
   "outputs": [
    {
     "name": "stdout",
     "output_type": "stream",
     "text": [
      "975/975 [==============================] - 18s 18ms/step\n"
     ]
    }
   ],
   "source": [
    "y_pred = model.predict(x_test)"
   ]
  },
  {
   "cell_type": "code",
   "execution_count": 28,
   "id": "aeab47f4",
   "metadata": {},
   "outputs": [],
   "source": [
    "y_pred = np.where(y_pred>0.5, 1,0) ## To Find the Threshold use the Auc Roc Curve"
   ]
  },
  {
   "cell_type": "code",
   "execution_count": 29,
   "id": "6bfe4775",
   "metadata": {},
   "outputs": [],
   "source": [
    "from sklearn.metrics import confusion_matrix"
   ]
  },
  {
   "cell_type": "code",
   "execution_count": 30,
   "id": "661784d1",
   "metadata": {},
   "outputs": [
    {
     "data": {
      "text/plain": [
       "array([[14863,  2254],\n",
       "       [ 2403, 11656]], dtype=int64)"
      ]
     },
     "execution_count": 30,
     "metadata": {},
     "output_type": "execute_result"
    }
   ],
   "source": [
    "confusion_matrix(y_test, y_pred)"
   ]
  },
  {
   "cell_type": "code",
   "execution_count": 31,
   "id": "dd0da92c",
   "metadata": {},
   "outputs": [
    {
     "name": "stdout",
     "output_type": "stream",
     "text": [
      "85.06222735437517\n"
     ]
    }
   ],
   "source": [
    "from sklearn.metrics import accuracy_score\n",
    "print(accuracy_score(y_test, y_pred)*100)"
   ]
  },
  {
   "cell_type": "code",
   "execution_count": 32,
   "id": "c6ae15c6",
   "metadata": {},
   "outputs": [
    {
     "name": "stdout",
     "output_type": "stream",
     "text": [
      "              precision    recall  f1-score   support\n",
      "\n",
      "           0       0.86      0.87      0.86     17117\n",
      "           1       0.84      0.83      0.83     14059\n",
      "\n",
      "    accuracy                           0.85     31176\n",
      "   macro avg       0.85      0.85      0.85     31176\n",
      "weighted avg       0.85      0.85      0.85     31176\n",
      "\n"
     ]
    }
   ],
   "source": [
    "from sklearn.metrics import classification_report\n",
    "print(classification_report(y_test, y_pred))"
   ]
  },
  {
   "cell_type": "code",
   "execution_count": 39,
   "id": "7823dbe4",
   "metadata": {},
   "outputs": [
    {
     "name": "stdout",
     "output_type": "stream",
     "text": [
      "975/975 [==============================] - 19s 20ms/step\n",
      "Train Result:\n",
      "================================================\n",
      "Accuracy Score: 98.73%\n",
      "_______________________________________________\n",
      "CLASSIFICATION REPORT:\n",
      "                      0             1  accuracy     macro avg  weighted avg\n",
      "precision      0.991105      0.982539  0.987265      0.986822      0.987290\n",
      "recall         0.985889      0.988979  0.987265      0.987434      0.987265\n",
      "f1-score       0.988490      0.985749  0.987265      0.987120      0.987269\n",
      "support    17292.000000  13883.000000  0.987265  31175.000000  31175.000000\n",
      "_______________________________________________\n"
     ]
    },
    {
     "data": {
      "image/png": "[encoded data removed]",
      "text/plain": [
       "<Figure size 640x480 with 2 Axes>"
      ]
     },
     "metadata": {},
     "output_type": "display_data"
    },
    {
     "name": "stdout",
     "output_type": "stream",
     "text": [
      "975/975 [==============================] - 23s 23ms/step\n",
      "Test Result:\n",
      "================================================\n",
      "Accuracy Score: 85.06%\n",
      "_______________________________________________\n",
      "CLASSIFICATION REPORT:\n",
      "                      0             1  accuracy     macro avg  weighted avg\n",
      "precision      0.860825      0.837958  0.850622      0.849392      0.850513\n",
      "recall         0.868318      0.829077  0.850622      0.848698      0.850622\n",
      "f1-score       0.864555      0.833494  0.850622      0.849025      0.850548\n",
      "support    17117.000000  14059.000000  0.850622  31176.000000  31176.000000\n",
      "_______________________________________________\n"
     ]
    },
    {
     "data": {
      "image/png": "[encoded data removed]",
      "text/plain": [
       "<Figure size 640x480 with 2 Axes>"
      ]
     },
     "metadata": {},
     "output_type": "display_data"
    }
   ],
   "source": [
    "print_score(model, x_train, y_train, x_test, y_test, train=True)\n",
    "print_score(model, x_train, y_train, x_test, y_test, train=False)"
   ]
  },
  {
   "cell_type": "code",
   "execution_count": null,
   "id": "1a4d0108",
   "metadata": {},
   "outputs": [],
   "source": []
  }
 ],
 "metadata": {
  "kernelspec": {
   "display_name": "Python 3 (ipykernel)",
   "language": "python",
   "name": "python3"
  },
  "language_info": {
   "codemirror_mode": {
    "name": "ipython",
    "version": 3
   },
   "file_extension": ".py",
   "mimetype": "text/x-python",
   "name": "python",
   "nbconvert_exporter": "python",
   "pygments_lexer": "ipython3",
   "version": "3.9.12"
  }
 },
 "nbformat": 4,
 "nbformat_minor": 5
}
