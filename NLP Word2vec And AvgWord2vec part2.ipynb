{
 "cells": [
  {
   "cell_type": "code",
   "execution_count": 1,
   "id": "6d090186",
   "metadata": {},
   "outputs": [
    {
     "name": "stderr",
     "output_type": "stream",
     "text": [
      "C:\\ProgramData\\Anaconda3\\lib\\site-packages\\scipy\\__init__.py:146: UserWarning: A NumPy version >=1.16.5 and <1.23.0 is required for this version of SciPy (detected version 1.26.3\n",
      "  warnings.warn(f\"A NumPy version >={np_minversion} and <{np_maxversion}\"\n"
     ]
    }
   ],
   "source": [
    "import pandas as pd\n",
    "from tqdm import tqdm\n",
    "import matplotlib.pyplot as plt\n",
    "import numpy as np\n",
    "from sklearn.metrics import RocCurveDisplay\n",
    "from sklearn.metrics import accuracy_score, confusion_matrix ,recall_score, roc_auc_score , roc_curve, classification_report,ConfusionMatrixDisplay\n",
    "tqdm.pandas()"
   ]
  },
  {
   "cell_type": "code",
   "execution_count": 2,
   "id": "b383f029",
   "metadata": {},
   "outputs": [],
   "source": [
    "# importing the Dataset\n",
    "\n",
    "messages = pd.read_csv('SMSSpamCollection.txt', sep='\\t', header=None, names=[\"label\", \"message\"])"
   ]
  },
  {
   "cell_type": "markdown",
   "id": "f0d7e385",
   "metadata": {},
   "source": [
    "### Word 2 Vec Implementation"
   ]
  },
  {
   "cell_type": "code",
   "execution_count": 3,
   "id": "bcff16ea",
   "metadata": {},
   "outputs": [
    {
     "data": {
      "text/html": [
       "<div>\n",
       "<style scoped>\n",
       "    .dataframe tbody tr th:only-of-type {\n",
       "        vertical-align: middle;\n",
       "    }\n",
       "\n",
       "    .dataframe tbody tr th {\n",
       "        vertical-align: top;\n",
       "    }\n",
       "\n",
       "    .dataframe thead th {\n",
       "        text-align: right;\n",
       "    }\n",
       "</style>\n",
       "<table border=\"1\" class=\"dataframe\">\n",
       "  <thead>\n",
       "    <tr style=\"text-align: right;\">\n",
       "      <th></th>\n",
       "      <th>label</th>\n",
       "      <th>message</th>\n",
       "    </tr>\n",
       "  </thead>\n",
       "  <tbody>\n",
       "    <tr>\n",
       "      <th>0</th>\n",
       "      <td>ham</td>\n",
       "      <td>Go until jurong point, crazy.. Available only ...</td>\n",
       "    </tr>\n",
       "  </tbody>\n",
       "</table>\n",
       "</div>"
      ],
      "text/plain": [
       "  label                                            message\n",
       "0   ham  Go until jurong point, crazy.. Available only ..."
      ]
     },
     "execution_count": 3,
     "metadata": {},
     "output_type": "execute_result"
    }
   ],
   "source": [
    "messages.head(1)"
   ]
  },
  {
   "cell_type": "code",
   "execution_count": 4,
   "id": "3586f3f3",
   "metadata": {},
   "outputs": [],
   "source": [
    "import re\n",
    "from nltk.stem import WordNetLemmatizer\n",
    "from nltk.corpus import stopwords\n",
    "lemmatizer = WordNetLemmatizer()\n",
    "\n",
    "corpus = []\n",
    "for i in range(len(messages['message'])):\n",
    "        review = re.sub('[^a-zA-Z]', ' ', messages['message'][i])\n",
    "        review = review.lower()\n",
    "        review = review.split()\n",
    "        review = [lemmatizer.lemmatize(word) for word in review if word not in stopwords.words(\"english\")]\n",
    "        review = ' '.join(review)\n",
    "        corpus.append(review)"
   ]
  },
  {
   "cell_type": "code",
   "execution_count": 5,
   "id": "4f1b68ba",
   "metadata": {},
   "outputs": [
    {
     "data": {
      "text/plain": [
       "['go jurong point crazy available bugis n great world la e buffet cine got amore wat',\n",
       " 'ok lar joking wif u oni',\n",
       " 'free entry wkly comp win fa cup final tkts st may text fa receive entry question std txt rate c apply',\n",
       " 'u dun say early hor u c already say',\n",
       " 'nah think go usf life around though']"
      ]
     },
     "execution_count": 5,
     "metadata": {},
     "output_type": "execute_result"
    }
   ],
   "source": [
    "corpus[:5]"
   ]
  },
  {
   "cell_type": "code",
   "execution_count": null,
   "id": "a0597685",
   "metadata": {},
   "outputs": [],
   "source": []
  },
  {
   "cell_type": "code",
   "execution_count": 6,
   "id": "1599ee44",
   "metadata": {},
   "outputs": [],
   "source": [
    "from nltk import sent_tokenize\n",
    "from gensim.utils import simple_preprocess"
   ]
  },
  {
   "cell_type": "code",
   "execution_count": 7,
   "id": "11aef293",
   "metadata": {},
   "outputs": [],
   "source": [
    "words =[]\n",
    "for sent in corpus:\n",
    "    sent_token = sent_tokenize(sent)   ### convert every sentence in a list\n",
    "    for sent in sent_token:\n",
    "        ## Lowering every word\n",
    "        words.append(simple_preprocess(sent))"
   ]
  },
  {
   "cell_type": "code",
   "execution_count": 8,
   "id": "eb3c769b",
   "metadata": {},
   "outputs": [
    {
     "data": {
      "text/plain": [
       "['ok', 'lar', 'joking', 'wif', 'oni']"
      ]
     },
     "execution_count": 8,
     "metadata": {},
     "output_type": "execute_result"
    }
   ],
   "source": [
    "words[1]"
   ]
  },
  {
   "cell_type": "code",
   "execution_count": 9,
   "id": "7b57db7a",
   "metadata": {},
   "outputs": [],
   "source": [
    "import gensim"
   ]
  },
  {
   "cell_type": "code",
   "execution_count": 10,
   "id": "d119b2bd",
   "metadata": {},
   "outputs": [],
   "source": [
    "## LET'S TRAIN WORD2VEC FROM SCRATCH\n",
    "model = gensim.models.Word2Vec(words, window = 5, min_count = 2)\n",
    "\n",
    "### window :-> How Many Context Of The Word On The Left Hand Side And The Right Hand Side Of the That We Basically Have To Take"
   ]
  },
  {
   "cell_type": "code",
   "execution_count": 11,
   "id": "9306b19a",
   "metadata": {},
   "outputs": [],
   "source": [
    "# model.wv.index_to_key"
   ]
  },
  {
   "cell_type": "code",
   "execution_count": 12,
   "id": "f65ec867",
   "metadata": {},
   "outputs": [
    {
     "data": {
      "text/plain": [
       "5564"
      ]
     },
     "execution_count": 12,
     "metadata": {},
     "output_type": "execute_result"
    }
   ],
   "source": [
    "model.corpus_count  ## Total Vocaulary Size "
   ]
  },
  {
   "cell_type": "code",
   "execution_count": 13,
   "id": "5c547bbe",
   "metadata": {},
   "outputs": [
    {
     "data": {
      "text/plain": [
       "5"
      ]
     },
     "execution_count": 13,
     "metadata": {},
     "output_type": "execute_result"
    }
   ],
   "source": [
    "model.epochs"
   ]
  },
  {
   "cell_type": "code",
   "execution_count": 14,
   "id": "11511ceb",
   "metadata": {},
   "outputs": [],
   "source": [
    "##### We Are Getting Similar Word From Our Dataset"
   ]
  },
  {
   "cell_type": "code",
   "execution_count": 15,
   "id": "f9d2c5ed",
   "metadata": {},
   "outputs": [
    {
     "data": {
      "text/plain": [
       "[('day', 0.9997518658638),\n",
       " ('life', 0.999741792678833),\n",
       " ('hope', 0.9997262358665466),\n",
       " ('much', 0.9997085928916931),\n",
       " ('say', 0.9997046589851379),\n",
       " ('amp', 0.9996938705444336),\n",
       " ('one', 0.9996938705444336),\n",
       " ('thing', 0.9996882081031799),\n",
       " ('keep', 0.9996833801269531),\n",
       " ('need', 0.9996823668479919)]"
      ]
     },
     "execution_count": 15,
     "metadata": {},
     "output_type": "execute_result"
    }
   ],
   "source": [
    "model.wv.similar_by_word('love')"
   ]
  },
  {
   "cell_type": "code",
   "execution_count": 16,
   "id": "73966168",
   "metadata": {},
   "outputs": [
    {
     "data": {
      "text/plain": [
       "[('year', 0.999449610710144),\n",
       " ('day', 0.9994052648544312),\n",
       " ('make', 0.9993911981582642),\n",
       " ('hello', 0.9993892908096313),\n",
       " ('dear', 0.9993500709533691),\n",
       " ('amp', 0.9993240833282471),\n",
       " ('new', 0.9993232488632202),\n",
       " ('keep', 0.9993211627006531),\n",
       " ('like', 0.9993187785148621),\n",
       " ('dont', 0.9993124604225159)]"
      ]
     },
     "execution_count": 16,
     "metadata": {},
     "output_type": "execute_result"
    }
   ],
   "source": [
    "model.wv.similar_by_word('happy')"
   ]
  },
  {
   "cell_type": "code",
   "execution_count": 17,
   "id": "9ccca9d1",
   "metadata": {},
   "outputs": [
    {
     "data": {
      "text/plain": [
       "(100,)"
      ]
     },
     "execution_count": 17,
     "metadata": {},
     "output_type": "execute_result"
    }
   ],
   "source": [
    "model.wv['kid'].shape"
   ]
  },
  {
   "cell_type": "code",
   "execution_count": 18,
   "id": "adffa0e5",
   "metadata": {},
   "outputs": [],
   "source": [
    "# words[0][0]"
   ]
  },
  {
   "cell_type": "code",
   "execution_count": 19,
   "id": "36a16be7",
   "metadata": {},
   "outputs": [],
   "source": [
    "# model.wv[words[0][0]]"
   ]
  },
  {
   "cell_type": "code",
   "execution_count": null,
   "id": "84699755",
   "metadata": {},
   "outputs": [],
   "source": []
  },
  {
   "cell_type": "code",
   "execution_count": 20,
   "id": "5e73a654",
   "metadata": {},
   "outputs": [],
   "source": [
    "def avg_word2Vec(doc):\n",
    "    #remove out of vocabulary words\n",
    "#     sent = [word for word in doc if word in model.wv.index.to_key]\n",
    "#     print(sent)\n",
    "    return np.mean([model.wv[word] for word in doc if word in model.wv.index_to_key], axis =0)\n",
    "            ## or [np.zeros(len(model.wv.index.to_key))], axis =0  model.wv.index_to_key"
   ]
  },
  {
   "cell_type": "code",
   "execution_count": null,
   "id": "da276b96",
   "metadata": {},
   "outputs": [],
   "source": []
  },
  {
   "cell_type": "code",
   "execution_count": 21,
   "id": "ff9d267c",
   "metadata": {
    "scrolled": true
   },
   "outputs": [
    {
     "name": "stderr",
     "output_type": "stream",
     "text": [
      "C:\\Users\\hp\\AppData\\Roaming\\Python\\Python39\\site-packages\\numpy\\core\\fromnumeric.py:3504: RuntimeWarning: Mean of empty slice.\n",
      "  return _methods._mean(a, axis=axis, dtype=dtype,\n",
      "C:\\Users\\hp\\AppData\\Roaming\\Python\\Python39\\site-packages\\numpy\\core\\_methods.py:129: RuntimeWarning: invalid value encountered in scalar divide\n",
      "  ret = ret.dtype.type(ret / rcount)\n"
     ]
    },
    {
     "data": {
      "text/plain": [
       "nan"
      ]
     },
     "execution_count": 21,
     "metadata": {},
     "output_type": "execute_result"
    }
   ],
   "source": [
    "avg_word2Vec(words[0][0])"
   ]
  },
  {
   "cell_type": "code",
   "execution_count": 22,
   "id": "246715ec",
   "metadata": {},
   "outputs": [
    {
     "data": {
      "text/plain": [
       "list"
      ]
     },
     "execution_count": 22,
     "metadata": {},
     "output_type": "execute_result"
    }
   ],
   "source": [
    "type(model.wv.index_to_key)"
   ]
  },
  {
   "cell_type": "code",
   "execution_count": 23,
   "id": "1eaf964c",
   "metadata": {},
   "outputs": [
    {
     "name": "stderr",
     "output_type": "stream",
     "text": [
      "100%|████████████████████████████████████████████████████████████████████████████| 5564/5564 [00:01<00:00, 3209.15it/s]\n"
     ]
    }
   ],
   "source": [
    "### Apply For The Entire Sentence \n",
    "X = []\n",
    "for i in tqdm(range(len(words))):\n",
    "#     print(words[i])\n",
    "    X.append(avg_word2Vec(words[i]))"
   ]
  },
  {
   "cell_type": "code",
   "execution_count": 24,
   "id": "ec380573",
   "metadata": {},
   "outputs": [
    {
     "data": {
      "text/plain": [
       "list"
      ]
     },
     "execution_count": 24,
     "metadata": {},
     "output_type": "execute_result"
    }
   ],
   "source": [
    "type(X)"
   ]
  },
  {
   "cell_type": "code",
   "execution_count": 25,
   "id": "438b4a2e",
   "metadata": {},
   "outputs": [],
   "source": [
    "X_new = np.array(X, dtype=object)"
   ]
  },
  {
   "cell_type": "code",
   "execution_count": 26,
   "id": "af508ace",
   "metadata": {},
   "outputs": [
    {
     "data": {
      "text/plain": [
       "array([-0.10233888,  0.29385707,  0.14027993,  0.03930686,  0.03297272,\n",
       "       -0.3215437 ,  0.07861059,  0.5157609 , -0.1601534 , -0.14989261,\n",
       "       -0.1575335 , -0.3442289 , -0.0023139 ,  0.09813994,  0.07422768,\n",
       "       -0.28780895,  0.01998659, -0.34101233, -0.02095743, -0.43834153,\n",
       "        0.07106078,  0.1538647 ,  0.09947666, -0.12236571, -0.11105856,\n",
       "        0.02325915, -0.21110852, -0.14859745, -0.22451498,  0.05217688,\n",
       "        0.2840272 ,  0.06031932,  0.14916116, -0.23889585, -0.11094094,\n",
       "        0.2570959 ,  0.03486114, -0.19416146, -0.17069827, -0.36665115,\n",
       "        0.06519165, -0.22811462, -0.10086148,  0.05077912,  0.24369444,\n",
       "       -0.13582043, -0.17591332,  0.0377537 ,  0.14573315,  0.23295414,\n",
       "        0.17610247, -0.283479  , -0.04915407, -0.02367802, -0.1312682 ,\n",
       "        0.20474158,  0.16993469, -0.0405581 , -0.27021635,  0.06982597,\n",
       "        0.10879947,  0.12083304, -0.13319862, -0.00122989, -0.25690943,\n",
       "        0.1571313 ,  0.08550588,  0.1942152 , -0.2783275 ,  0.322522  ,\n",
       "       -0.16625233,  0.13028221,  0.30197477, -0.07567909,  0.29205596,\n",
       "        0.17935593, -0.00785185, -0.08480339, -0.19285667,  0.11817837,\n",
       "       -0.09144449,  0.01083869, -0.23795366,  0.34472385, -0.05513814,\n",
       "        0.00382515, -0.12295762,  0.33036152,  0.34299746,  0.0792862 ,\n",
       "        0.35668528,  0.14450786,  0.06411773,  0.14630742,  0.33432674,\n",
       "        0.27002528,  0.1208207 , -0.2864006 ,  0.09692848, -0.05467024],\n",
       "      dtype=float32)"
      ]
     },
     "execution_count": 26,
     "metadata": {},
     "output_type": "execute_result"
    }
   ],
   "source": [
    "X_new[0]"
   ]
  },
  {
   "cell_type": "code",
   "execution_count": null,
   "id": "5764c66e",
   "metadata": {},
   "outputs": [],
   "source": []
  }
 ],
 "metadata": {
  "kernelspec": {
   "display_name": "Python 3 (ipykernel)",
   "language": "python",
   "name": "python3"
  },
  "language_info": {
   "codemirror_mode": {
    "name": "ipython",
    "version": 3
   },
   "file_extension": ".py",
   "mimetype": "text/x-python",
   "name": "python",
   "nbconvert_exporter": "python",
   "pygments_lexer": "ipython3",
   "version": "3.9.12"
  }
 },
 "nbformat": 4,
 "nbformat_minor": 5
}
