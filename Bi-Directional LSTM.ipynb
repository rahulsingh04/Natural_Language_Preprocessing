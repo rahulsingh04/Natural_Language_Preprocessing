{
 "cells": [
  {
   "cell_type": "code",
   "execution_count": null,
   "id": "fef4e785",
   "metadata": {},
   "outputs": [],
   "source": [
    "import pandas as pd\n",
    "import numpy as np\n",
    "from sklearn.metrics import RocCurveDisplay\n",
    "from sklearn.metrics import accuracy_score, confusion_matrix ,recall_score, roc_auc_score , roc_curve, classification_report,ConfusionMatrixDisplay\n",
    "import matplotlib.pyplot as plt\n",
    "\n",
    "def print_score(clf, X_train, y_train, X_test, y_test, train=True):\n",
    "    if train:\n",
    "        pred = clf.predict(X_train)\n",
    "        pred = np.where(pred>0.5, 1,0) ## To Find the Threshold use the Auc Roc Curve\n",
    "\n",
    "        clf_report = pd.DataFrame(classification_report(y_train, pred, output_dict=True))\n",
    "        print(\"Train Result:\\n================================================\")\n",
    "        print(f\"Accuracy Score: {accuracy_score(y_train, pred) * 100:.2f}%\")\n",
    "        print(\"_______________________________________________\")\n",
    "        print(f\"CLASSIFICATION REPORT:\\n{clf_report}\")\n",
    "        print(\"_______________________________________________\")\n",
    "        ConfusionMatrixDisplay.from_predictions(y_train, pred) \n",
    "        plt.show()\n",
    "        \n",
    "    elif train==False:\n",
    "        pred = clf.predict(X_test)\n",
    "        pred = np.where(pred>0.5, 1,0) ## To Find the Threshold use the Auc Roc Curve\n",
    "        clf_report = pd.DataFrame(classification_report(y_test, pred, output_dict=True))\n",
    "        print(\"Test Result:\\n================================================\")        \n",
    "        print(f\"Accuracy Score: {accuracy_score(y_test, pred) * 100:.2f}%\")\n",
    "        print(\"_______________________________________________\")\n",
    "        print(f\"CLASSIFICATION REPORT:\\n{clf_report}\")\n",
    "        print(\"_______________________________________________\")\n",
    "        ConfusionMatrixDisplay.from_predictions(y_test, pred) \n",
    "        plt.show()\n",
    "        \n",
    "\n",
    "pd.set_option('display.max_columns', 500)\n",
    "   ### VIF SCORE : ---------->\n",
    "from statsmodels.stats.outliers_influence import variance_inflation_factor\n",
    "from sklearn.preprocessing import StandardScaler\n",
    "def vif_score(x):\n",
    "    scaler = StandardScaler()\n",
    "    arr = scaler.fit_transform(x)\n",
    "    return pd.DataFrame([[x.columns[i] , variance_inflation_factor(arr,i)] for i in range(arr.shape[1])], \n",
    "                        columns = [\"FEATURE\" , \"VARIANCE INFLATION FACTOR\"]) "
   ]
  },
  {
   "cell_type": "code",
   "execution_count": 2,
   "id": "35d06724",
   "metadata": {},
   "outputs": [
    {
     "name": "stderr",
     "output_type": "stream",
     "text": [
      "C:\\Users\\hp\\AppData\\Local\\Temp\\ipykernel_10952\\2661790341.py:1: DtypeWarning: Columns (3) have mixed types. Specify dtype option on import or set low_memory=False.\n",
      "  data = pd.read_csv(\"WELFake_Dataset.csv\",usecols=['title', 'label'], encoding='unicode_escape')\n"
     ]
    }
   ],
   "source": [
    "data = pd.read_csv(\"WELFake_Dataset.csv\",usecols=['title', 'label'], encoding='unicode_escape')"
   ]
  },
  {
   "cell_type": "code",
   "execution_count": 3,
   "id": "efc107fc",
   "metadata": {},
   "outputs": [
    {
     "data": {
      "text/html": [
       "<div>\n",
       "<style scoped>\n",
       "    .dataframe tbody tr th:only-of-type {\n",
       "        vertical-align: middle;\n",
       "    }\n",
       "\n",
       "    .dataframe tbody tr th {\n",
       "        vertical-align: top;\n",
       "    }\n",
       "\n",
       "    .dataframe thead th {\n",
       "        text-align: right;\n",
       "    }\n",
       "</style>\n",
       "<table border=\"1\" class=\"dataframe\">\n",
       "  <thead>\n",
       "    <tr style=\"text-align: right;\">\n",
       "      <th></th>\n",
       "      <th>title</th>\n",
       "      <th>label</th>\n",
       "    </tr>\n",
       "  </thead>\n",
       "  <tbody>\n",
       "    <tr>\n",
       "      <th>0</th>\n",
       "      <td>LAW ENFORCEMENT ON HIGH ALERT Following Threat...</td>\n",
       "      <td>1</td>\n",
       "    </tr>\n",
       "    <tr>\n",
       "      <th>1</th>\n",
       "      <td>NaN</td>\n",
       "      <td>1</td>\n",
       "    </tr>\n",
       "  </tbody>\n",
       "</table>\n",
       "</div>"
      ],
      "text/plain": [
       "                                               title label\n",
       "0  LAW ENFORCEMENT ON HIGH ALERT Following Threat...     1\n",
       "1                                                NaN     1"
      ]
     },
     "execution_count": 3,
     "metadata": {},
     "output_type": "execute_result"
    }
   ],
   "source": [
    "data.head(2)"
   ]
  },
  {
   "cell_type": "code",
   "execution_count": 4,
   "id": "d7cb2e70",
   "metadata": {},
   "outputs": [
    {
     "name": "stdout",
     "output_type": "stream",
     "text": [
      "shape of the data  (78097, 2)\n",
      "-------------------------------------------------------------------------------------------------------------------------\n",
      "title    2961\n",
      "label    4321\n",
      "dtype: int64\n",
      "----------------------------------------------------------------------------------------------------\n",
      "False    67996\n",
      "True     10101\n",
      "Name: count, dtype: int64\n"
     ]
    }
   ],
   "source": [
    "print(\"shape of the data \", data.shape)\n",
    "print(\"-\"*121)\n",
    "print(data.isnull().sum())\n",
    "print(\"-\"*100)\n",
    "print(data.duplicated().value_counts())"
   ]
  },
  {
   "cell_type": "code",
   "execution_count": 5,
   "id": "16c6a533",
   "metadata": {},
   "outputs": [
    {
     "data": {
      "text/plain": [
       "array(['1', '0', nan, ...,\n",
       "       ' regardless of age differences. Itâ\\x80\\x99s a more civil way of life. There are loaded pistols',\n",
       "       ' thanks entirely to the Marxist liberals. Fembot220 ', ' google'],\n",
       "      dtype=object)"
      ]
     },
     "execution_count": 5,
     "metadata": {},
     "output_type": "execute_result"
    }
   ],
   "source": [
    "data['label'].unique()"
   ]
  },
  {
   "cell_type": "code",
   "execution_count": 6,
   "id": "3837cbf8",
   "metadata": {},
   "outputs": [],
   "source": [
    "def text_preprocessing(x):\n",
    "    try:\n",
    "        return int(x)\n",
    "    except Exception as e:\n",
    "        return np.nan\n",
    "data['label'] = data['label'].apply(lambda x: text_preprocessing(x))"
   ]
  },
  {
   "cell_type": "code",
   "execution_count": 7,
   "id": "a02031b4",
   "metadata": {},
   "outputs": [],
   "source": [
    "data = data.dropna().drop_duplicates().reset_index(drop = True)"
   ]
  },
  {
   "cell_type": "code",
   "execution_count": 8,
   "id": "88922838",
   "metadata": {},
   "outputs": [
    {
     "data": {
      "text/plain": [
       "(62261, 2)"
      ]
     },
     "execution_count": 8,
     "metadata": {},
     "output_type": "execute_result"
    }
   ],
   "source": [
    "data.shape"
   ]
  },
  {
   "cell_type": "code",
   "execution_count": 9,
   "id": "68094532",
   "metadata": {},
   "outputs": [
    {
     "data": {
      "text/html": [
       "<div>\n",
       "<style scoped>\n",
       "    .dataframe tbody tr th:only-of-type {\n",
       "        vertical-align: middle;\n",
       "    }\n",
       "\n",
       "    .dataframe tbody tr th {\n",
       "        vertical-align: top;\n",
       "    }\n",
       "\n",
       "    .dataframe thead th {\n",
       "        text-align: right;\n",
       "    }\n",
       "</style>\n",
       "<table border=\"1\" class=\"dataframe\">\n",
       "  <thead>\n",
       "    <tr style=\"text-align: right;\">\n",
       "      <th></th>\n",
       "      <th>title</th>\n",
       "      <th>label</th>\n",
       "    </tr>\n",
       "  </thead>\n",
       "  <tbody>\n",
       "    <tr>\n",
       "      <th>0</th>\n",
       "      <td>LAW ENFORCEMENT ON HIGH ALERT Following Threat...</td>\n",
       "      <td>1.0</td>\n",
       "    </tr>\n",
       "  </tbody>\n",
       "</table>\n",
       "</div>"
      ],
      "text/plain": [
       "                                               title  label\n",
       "0  LAW ENFORCEMENT ON HIGH ALERT Following Threat...    1.0"
      ]
     },
     "execution_count": 9,
     "metadata": {},
     "output_type": "execute_result"
    }
   ],
   "source": [
    "data.head(1)"
   ]
  },
  {
   "cell_type": "code",
   "execution_count": 24,
   "id": "e8be04a0",
   "metadata": {},
   "outputs": [],
   "source": [
    "## Get the independent feature\n",
    "x = data.drop(\"label\", axis =1 )\n",
    "y = data['label']"
   ]
  },
  {
   "cell_type": "code",
   "execution_count": 25,
   "id": "eee29c21",
   "metadata": {},
   "outputs": [
    {
     "data": {
      "text/plain": [
       "array([1.00000e+00, 0.00000e+00, 2.12569e+05, 1.91700e+03, 1.92000e+03,\n",
       "       1.94700e+03, 5.00000e+02, 3.70000e+01])"
      ]
     },
     "execution_count": 25,
     "metadata": {},
     "output_type": "execute_result"
    }
   ],
   "source": [
    "data['label'].unique()"
   ]
  },
  {
   "cell_type": "code",
   "execution_count": 26,
   "id": "672b8b4d",
   "metadata": {},
   "outputs": [],
   "source": [
    "messages = x.copy()\n",
    "\n",
    "import re\n",
    "from nltk.stem import WordNetLemmatizer\n",
    "from nltk.corpus import stopwords\n",
    "\n",
    "lemmatizer = WordNetLemmatizer()\n",
    "stop_words = set(stopwords.words('english'))\n",
    "sentences = messages['title'].to_list()\n",
    "\n",
    "corpus = [\n",
    "    ' '.join(lemmatizer.lemmatize(word) for word in re.sub('[^a-zA-Z]', ' ', sentence.lower()).split() if word not in stop_words)\n",
    "    for sentence in sentences\n",
    "]"
   ]
  },
  {
   "cell_type": "code",
   "execution_count": 27,
   "id": "5d264fe1",
   "metadata": {},
   "outputs": [
    {
     "name": "stdout",
     "output_type": "stream",
     "text": [
      "2.11.0\n"
     ]
    }
   ],
   "source": [
    "import tensorflow as tf\n",
    "print(tf.__version__)"
   ]
  },
  {
   "cell_type": "code",
   "execution_count": 28,
   "id": "5b8e5cdb",
   "metadata": {},
   "outputs": [
    {
     "data": {
      "text/plain": [
       "83953"
      ]
     },
     "execution_count": 28,
     "metadata": {},
     "output_type": "execute_result"
    }
   ],
   "source": [
    "## unique_word in a data set \n",
    "yy = ([(i.split()) for i in x['title']])\n",
    "unique_word_in_a_dataset = len(set([i for i in yy for i in i ]))\n",
    "unique_word_in_a_dataset"
   ]
  },
  {
   "cell_type": "code",
   "execution_count": 29,
   "id": "e4c32253",
   "metadata": {},
   "outputs": [],
   "source": [
    "from tensorflow.keras.layers import Embedding\n",
    "from tensorflow.keras.preprocessing.sequence import pad_sequences\n",
    "from tensorflow.keras.models import Sequential\n",
    "from tensorflow.keras.preprocessing.text import one_hot\n",
    "from tensorflow.keras.layers import LSTM,Dense,Bidirectional"
   ]
  },
  {
   "cell_type": "code",
   "execution_count": 30,
   "id": "ba958511",
   "metadata": {},
   "outputs": [],
   "source": [
    "### NOW WE Will Use One Hot Encoding \n",
    "from tensorflow.keras.preprocessing.text import one_hot\n",
    "\n",
    "vocab_size = 5000 ## 5k word in a dictionary\n",
    "\n",
    "one_hot_rep = [one_hot(i, vocab_size) for i in corpus]"
   ]
  },
  {
   "cell_type": "code",
   "execution_count": 31,
   "id": "af718c76",
   "metadata": {},
   "outputs": [
    {
     "data": {
      "text/plain": [
       "[4513, 2898, 3164, 4196, 1264, 673, 4149, 1522, 4442, 3589, 2712, 3877]"
      ]
     },
     "execution_count": 31,
     "metadata": {},
     "output_type": "execute_result"
    }
   ],
   "source": [
    "one_hot_rep[0]"
   ]
  },
  {
   "cell_type": "code",
   "execution_count": 32,
   "id": "58074f22",
   "metadata": {},
   "outputs": [
    {
     "data": {
      "text/plain": [
       "'law enforcement high alert following threat cop white blacklivesmatter fyf terrorist video'"
      ]
     },
     "execution_count": 32,
     "metadata": {},
     "output_type": "execute_result"
    }
   ],
   "source": [
    "corpus[0]"
   ]
  },
  {
   "cell_type": "markdown",
   "id": "3ef2a579",
   "metadata": {},
   "source": [
    "### Embedding Representation"
   ]
  },
  {
   "cell_type": "code",
   "execution_count": 33,
   "id": "f7e0033d",
   "metadata": {},
   "outputs": [
    {
     "name": "stdout",
     "output_type": "stream",
     "text": [
      "max_length of the sentence in the corpus list :---> 47\n"
     ]
    }
   ],
   "source": [
    "max_sentence_length = max([len(i.split()) for i in corpus])\n",
    "print(\"max_length of the sentence in the corpus list :--->\", max_sentence_length)"
   ]
  },
  {
   "cell_type": "code",
   "execution_count": 34,
   "id": "6b55b59a",
   "metadata": {},
   "outputs": [
    {
     "data": {
      "text/plain": [
       "array([[   0,    0,    0, ..., 3589, 2712, 3877],\n",
       "       [   0,    0,    0, ..., 1291,  781, 3877],\n",
       "       [   0,    0,    0, ..., 4506, 1769, 1394],\n",
       "       ...,\n",
       "       [   0,    0,    0, ..., 4680,  988, 2897],\n",
       "       [   0,    0,    0, ..., 1682,  524, 4810],\n",
       "       [   0,    0,    0, ..., 3824,  945,  117]])"
      ]
     },
     "execution_count": 34,
     "metadata": {},
     "output_type": "execute_result"
    }
   ],
   "source": [
    "## Pre - Padding \n",
    "sent_length = max_sentence_length\n",
    "embedded_docs = pad_sequences(one_hot_rep, maxlen=max_sentence_length, padding='pre')\n",
    "embedded_docs"
   ]
  },
  {
   "cell_type": "code",
   "execution_count": 35,
   "id": "765b4996",
   "metadata": {},
   "outputs": [
    {
     "name": "stdout",
     "output_type": "stream",
     "text": [
      "one hot representation 1st sentence:----> [4513, 2898, 3164, 4196, 1264, 673, 4149, 1522, 4442, 3589, 2712, 3877]\n",
      "----------------------------------------------------------------------------------------------------------------------------------\n",
      "First Sentences:------------------------> law enforcement high alert following threat cop white blacklivesmatter fyf terrorist video\n",
      "----------------------------------------------------------------------------------------------------------------------------------\n",
      "embedded document of 1st sentence:------> [   0    0    0    0    0    0    0    0    0    0    0    0    0    0\n",
      "    0    0    0    0    0    0    0    0    0    0    0    0    0    0\n",
      "    0    0    0    0    0    0    0 4513 2898 3164 4196 1264  673 4149\n",
      " 1522 4442 3589 2712 3877]\n"
     ]
    }
   ],
   "source": [
    "print(\"one hot representation 1st sentence:---->\",one_hot_rep[0])\n",
    "print(\"-\"*130)\n",
    "print(\"First Sentences:------------------------>\",corpus[0])\n",
    "print(\"-\"*130)\n",
    "print(\"embedded document of 1st sentence:------>\",embedded_docs[0])"
   ]
  },
  {
   "cell_type": "markdown",
   "id": "686ae62b",
   "metadata": {},
   "source": [
    "## CREATING AN LSTM  MODEL ALONG WITH EMBEDDING LAYER"
   ]
  },
  {
   "cell_type": "code",
   "execution_count": 36,
   "id": "11713438",
   "metadata": {},
   "outputs": [
    {
     "name": "stdout",
     "output_type": "stream",
     "text": [
      "Model: \"sequential_1\"\n",
      "_________________________________________________________________\n",
      " Layer (type)                Output Shape              Param #   \n",
      "=================================================================\n",
      " embedding_1 (Embedding)     (None, 47, 40)            200000    \n",
      "                                                                 \n",
      " lstm_1 (LSTM)               (None, 100)               56400     \n",
      "                                                                 \n",
      " dense_1 (Dense)             (None, 1)                 101       \n",
      "                                                                 \n",
      "=================================================================\n",
      "Total params: 256,501\n",
      "Trainable params: 256,501\n",
      "Non-trainable params: 0\n",
      "_________________________________________________________________\n",
      "None\n"
     ]
    }
   ],
   "source": [
    "embedding_vector_feature = 40 ##feature Representation\n",
    "model = Sequential()\n",
    "model.add(Embedding(vocab_size, embedding_vector_feature, input_length=sent_length))\n",
    "model.add(LSTM(100))\n",
    "model.add(Dense(1, activation='sigmoid'))\n",
    "model.compile(loss = 'binary_crossentropy', optimizer = 'adam', metrics=['accuracy'])\n",
    "print(model.summary())"
   ]
  },
  {
   "cell_type": "code",
   "execution_count": 37,
   "id": "f9efec86",
   "metadata": {},
   "outputs": [
    {
     "name": "stdout",
     "output_type": "stream",
     "text": [
      "62261 (62261,)\n"
     ]
    }
   ],
   "source": [
    "print(len(embedded_docs), y.shape)"
   ]
  },
  {
   "cell_type": "code",
   "execution_count": 38,
   "id": "7ee44c13",
   "metadata": {},
   "outputs": [],
   "source": [
    "import numpy as np\n",
    "x_final = np.array(embedded_docs)\n",
    "y_final = np.array(y)"
   ]
  },
  {
   "cell_type": "code",
   "execution_count": 39,
   "id": "41b70595",
   "metadata": {},
   "outputs": [
    {
     "name": "stdout",
     "output_type": "stream",
     "text": [
      "x_final.shape (62261, 47)\n",
      "y_final.shape (62261,)\n"
     ]
    }
   ],
   "source": [
    "print(\"x_final.shape\",x_final.shape)\n",
    "print(\"y_final.shape\",y_final.shape)"
   ]
  },
  {
   "cell_type": "code",
   "execution_count": 40,
   "id": "10a9742e",
   "metadata": {},
   "outputs": [],
   "source": [
    "from sklearn.model_selection import train_test_split\n",
    "\n",
    "x_train, x_test, y_train, y_test = train_test_split(x_final, y_final, test_size=0.5)\n",
    "\n",
    "x_train, x_test = np.float32(x_train), np.float32(x_test)"
   ]
  },
  {
   "cell_type": "code",
   "execution_count": 41,
   "id": "bd7ea384",
   "metadata": {},
   "outputs": [
    {
     "data": {
      "text/plain": [
       "array([1., 0., 1., ..., 0., 0., 0.])"
      ]
     },
     "execution_count": 41,
     "metadata": {},
     "output_type": "execute_result"
    }
   ],
   "source": [
    "y_train"
   ]
  },
  {
   "cell_type": "code",
   "execution_count": null,
   "id": "11ba2418",
   "metadata": {},
   "outputs": [],
   "source": []
  },
  {
   "cell_type": "code",
   "execution_count": 43,
   "id": "672ebfd2",
   "metadata": {},
   "outputs": [
    {
     "name": "stdout",
     "output_type": "stream",
     "text": [
      "x_train.shape (31130, 47)\n",
      "x_test.shape (31131, 47)\n",
      "y_train.shape (31130,)\n",
      "y_test.shape (31131,)\n"
     ]
    }
   ],
   "source": [
    "print(\"x_train.shape\",x_train.shape)\n",
    "print(\"x_test.shape\",x_test.shape)\n",
    "\n",
    "print(\"y_train.shape\",y_train.shape)\n",
    "print(\"y_test.shape\",y_test.shape)"
   ]
  },
  {
   "cell_type": "markdown",
   "id": "8781a805",
   "metadata": {},
   "source": [
    "## Model Training"
   ]
  },
  {
   "cell_type": "code",
   "execution_count": 44,
   "id": "3f79a671",
   "metadata": {},
   "outputs": [
    {
     "name": "stdout",
     "output_type": "stream",
     "text": [
      "Epoch 1/10\n",
      "487/487 [==============================] - 52s 92ms/step - loss: -8.6236 - accuracy: 0.7381 - val_loss: 0.1614 - val_accuracy: 0.8287\n",
      "Epoch 2/10\n",
      "487/487 [==============================] - 44s 91ms/step - loss: -26.0945 - accuracy: 0.6479 - val_loss: 0.0068 - val_accuracy: 0.7732\n",
      "Epoch 3/10\n",
      "487/487 [==============================] - 72s 148ms/step - loss: -63.3438 - accuracy: 0.7753 - val_loss: 4.8323 - val_accuracy: 0.4493\n",
      "Epoch 4/10\n",
      "487/487 [==============================] - 50s 103ms/step - loss: -115.1826 - accuracy: 0.5039 - val_loss: -0.4903 - val_accuracy: 0.7310\n",
      "Epoch 5/10\n",
      "487/487 [==============================] - 50s 102ms/step - loss: -157.5161 - accuracy: 0.7602 - val_loss: -1.7289 - val_accuracy: 0.7695\n",
      "Epoch 6/10\n",
      "487/487 [==============================] - 49s 100ms/step - loss: -181.9143 - accuracy: 0.7908 - val_loss: -1.8725 - val_accuracy: 0.7722\n",
      "Epoch 7/10\n",
      "487/487 [==============================] - 47s 96ms/step - loss: -200.9638 - accuracy: 0.7902 - val_loss: -2.0847 - val_accuracy: 0.7748\n",
      "Epoch 8/10\n",
      "487/487 [==============================] - 46s 94ms/step - loss: -218.2121 - accuracy: 0.7988 - val_loss: -1.4140 - val_accuracy: 0.7730\n",
      "Epoch 9/10\n",
      "487/487 [==============================] - 49s 101ms/step - loss: -233.4380 - accuracy: 0.8035 - val_loss: -0.7372 - val_accuracy: 0.7751\n",
      "Epoch 10/10\n",
      "487/487 [==============================] - 53s 108ms/step - loss: -246.6361 - accuracy: 0.8156 - val_loss: -1.3137 - val_accuracy: 0.7907\n"
     ]
    },
    {
     "data": {
      "text/plain": [
       "<keras.callbacks.History at 0x295c87309d0>"
      ]
     },
     "execution_count": 44,
     "metadata": {},
     "output_type": "execute_result"
    }
   ],
   "source": [
    "### Final Training \n",
    "model.fit(x_train, y_train, validation_data=(x_test,y_test), epochs=10, batch_size=64)"
   ]
  },
  {
   "cell_type": "markdown",
   "id": "fe9f130d",
   "metadata": {},
   "source": [
    "## PERFORMANCE METRICS AND ACCURACY :--->"
   ]
  },
  {
   "cell_type": "code",
   "execution_count": 45,
   "id": "941958e9",
   "metadata": {},
   "outputs": [
    {
     "name": "stdout",
     "output_type": "stream",
     "text": [
      "973/973 [==============================] - 19s 19ms/step\n"
     ]
    }
   ],
   "source": [
    "y_pred = model.predict(x_test)"
   ]
  },
  {
   "cell_type": "code",
   "execution_count": 46,
   "id": "31c3f453",
   "metadata": {},
   "outputs": [],
   "source": [
    "y_pred = np.where(y_pred>0.5, 1,0) ## To Find the Threshold use the Auc Roc Curve"
   ]
  },
  {
   "cell_type": "code",
   "execution_count": 47,
   "id": "f653acd5",
   "metadata": {},
   "outputs": [],
   "source": [
    "from sklearn.metrics import confusion_matrix"
   ]
  },
  {
   "cell_type": "code",
   "execution_count": 48,
   "id": "db60755f",
   "metadata": {},
   "outputs": [
    {
     "data": {
      "text/plain": [
       "array([[15052,  2105,     0,     0],\n",
       "       [ 4410,  9562,     0,     0],\n",
       "       [    0,     1,     0,     0],\n",
       "       [    0,     1,     0,     0]], dtype=int64)"
      ]
     },
     "execution_count": 48,
     "metadata": {},
     "output_type": "execute_result"
    }
   ],
   "source": [
    "confusion_matrix(y_test, y_pred)"
   ]
  },
  {
   "cell_type": "code",
   "execution_count": 49,
   "id": "3cff820b",
   "metadata": {},
   "outputs": [
    {
     "name": "stdout",
     "output_type": "stream",
     "text": [
      "79.06588288201472\n"
     ]
    }
   ],
   "source": [
    "from sklearn.metrics import accuracy_score\n",
    "print(accuracy_score(y_test, y_pred)*100)"
   ]
  },
  {
   "cell_type": "code",
   "execution_count": 50,
   "id": "be866b4b",
   "metadata": {},
   "outputs": [
    {
     "name": "stdout",
     "output_type": "stream",
     "text": [
      "973/973 [==============================] - 18s 19ms/step\n"
     ]
    },
    {
     "name": "stderr",
     "output_type": "stream",
     "text": [
      "C:\\Users\\hp\\AppData\\Roaming\\Python\\Python39\\site-packages\\sklearn\\metrics\\_classification.py:1334: UndefinedMetricWarning: Precision and F-score are ill-defined and being set to 0.0 in labels with no predicted samples. Use `zero_division` parameter to control this behavior.\n",
      "  _warn_prf(average, modifier, msg_start, len(result))\n",
      "C:\\Users\\hp\\AppData\\Roaming\\Python\\Python39\\site-packages\\sklearn\\metrics\\_classification.py:1334: UndefinedMetricWarning: Precision and F-score are ill-defined and being set to 0.0 in labels with no predicted samples. Use `zero_division` parameter to control this behavior.\n",
      "  _warn_prf(average, modifier, msg_start, len(result))\n",
      "C:\\Users\\hp\\AppData\\Roaming\\Python\\Python39\\site-packages\\sklearn\\metrics\\_classification.py:1334: UndefinedMetricWarning: Precision and F-score are ill-defined and being set to 0.0 in labels with no predicted samples. Use `zero_division` parameter to control this behavior.\n",
      "  _warn_prf(average, modifier, msg_start, len(result))\n"
     ]
    },
    {
     "name": "stdout",
     "output_type": "stream",
     "text": [
      "Train Result:\n",
      "================================================\n",
      "Accuracy Score: 82.99%\n",
      "_______________________________________________\n",
      "CLASSIFICATION REPORT:\n",
      "                    0.0           1.0  37.0  500.0  1947.0  212569.0  \\\n",
      "precision      0.804571      0.872721   0.0    0.0     0.0       0.0   \n",
      "recall         0.914613      0.725470   0.0    0.0     0.0       0.0   \n",
      "f1-score       0.856070      0.792312   0.0    0.0     0.0       0.0   \n",
      "support    17204.000000  13922.000000   1.0    1.0     1.0       1.0   \n",
      "\n",
      "           accuracy     macro avg  weighted avg  \n",
      "precision  0.829907      0.279549      0.834946  \n",
      "recall     0.829907      0.273347      0.829907  \n",
      "f1-score   0.829907      0.274730      0.827446  \n",
      "support    0.829907  31130.000000  31130.000000  \n",
      "_______________________________________________\n"
     ]
    },
    {
     "data": {
      "image/png": "[encoded data removed]",
      "text/plain": [
       "<Figure size 640x480 with 2 Axes>"
      ]
     },
     "metadata": {},
     "output_type": "display_data"
    },
    {
     "name": "stdout",
     "output_type": "stream",
     "text": [
      "973/973 [==============================] - 20s 20ms/step\n"
     ]
    },
    {
     "name": "stderr",
     "output_type": "stream",
     "text": [
      "C:\\Users\\hp\\AppData\\Roaming\\Python\\Python39\\site-packages\\sklearn\\metrics\\_classification.py:1334: UndefinedMetricWarning: Precision and F-score are ill-defined and being set to 0.0 in labels with no predicted samples. Use `zero_division` parameter to control this behavior.\n",
      "  _warn_prf(average, modifier, msg_start, len(result))\n",
      "C:\\Users\\hp\\AppData\\Roaming\\Python\\Python39\\site-packages\\sklearn\\metrics\\_classification.py:1334: UndefinedMetricWarning: Precision and F-score are ill-defined and being set to 0.0 in labels with no predicted samples. Use `zero_division` parameter to control this behavior.\n",
      "  _warn_prf(average, modifier, msg_start, len(result))\n",
      "C:\\Users\\hp\\AppData\\Roaming\\Python\\Python39\\site-packages\\sklearn\\metrics\\_classification.py:1334: UndefinedMetricWarning: Precision and F-score are ill-defined and being set to 0.0 in labels with no predicted samples. Use `zero_division` parameter to control this behavior.\n",
      "  _warn_prf(average, modifier, msg_start, len(result))\n"
     ]
    },
    {
     "name": "stdout",
     "output_type": "stream",
     "text": [
      "Test Result:\n",
      "================================================\n",
      "Accuracy Score: 79.07%\n",
      "_______________________________________________\n",
      "CLASSIFICATION REPORT:\n",
      "                    0.0           1.0  1917.0  1920.0  accuracy     macro avg  \\\n",
      "precision      0.773405      0.819436     0.0     0.0  0.790659      0.398210   \n",
      "recall         0.877310      0.684369     0.0     0.0  0.790659      0.390420   \n",
      "f1-score       0.822087      0.745837     0.0     0.0  0.790659      0.391981   \n",
      "support    17157.000000  13972.000000     1.0     1.0  0.790659  31131.000000   \n",
      "\n",
      "           weighted avg  \n",
      "precision      0.794014  \n",
      "recall         0.790659  \n",
      "f1-score       0.787812  \n",
      "support    31131.000000  \n",
      "_______________________________________________\n"
     ]
    },
    {
     "data": {
      "image/png": "[encoded data removed]",
      "text/plain": [
       "<Figure size 640x480 with 2 Axes>"
      ]
     },
     "metadata": {},
     "output_type": "display_data"
    }
   ],
   "source": [
    "print_score(model, x_train, y_train, x_test, y_test, train=True)\n",
    "print_score(model, x_train, y_train, x_test, y_test, train=False)"
   ]
  },
  {
   "cell_type": "code",
   "execution_count": null,
   "id": "07a99b79",
   "metadata": {},
   "outputs": [],
   "source": []
  }
 ],
 "metadata": {
  "kernelspec": {
   "display_name": "Python 3 (ipykernel)",
   "language": "python",
   "name": "python3"
  },
  "language_info": {
   "codemirror_mode": {
    "name": "ipython",
    "version": 3
   },
   "file_extension": ".py",
   "mimetype": "text/x-python",
   "name": "python",
   "nbconvert_exporter": "python",
   "pygments_lexer": "ipython3",
   "version": "3.9.12"
  }
 },
 "nbformat": 4,
 "nbformat_minor": 5
}
