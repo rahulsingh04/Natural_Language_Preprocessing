{
 "cells": [
  {
   "cell_type": "code",
   "execution_count": 1,
   "id": "c3365293",
   "metadata": {},
   "outputs": [
    {
     "name": "stdout",
     "output_type": "stream",
     "text": [
      "Defaulting to user installation because normal site-packages is not writeable\n",
      "Requirement already satisfied: nltk in c:\\programdata\\anaconda3\\lib\\site-packages (3.7)\n",
      "Requirement already satisfied: regex>=2021.8.3 in c:\\programdata\\anaconda3\\lib\\site-packages (from nltk) (2022.3.15)\n",
      "Requirement already satisfied: click in c:\\programdata\\anaconda3\\lib\\site-packages (from nltk) (8.0.4)\n",
      "Requirement already satisfied: joblib in c:\\programdata\\anaconda3\\lib\\site-packages (from nltk) (1.1.0)\n",
      "Requirement already satisfied: tqdm in c:\\programdata\\anaconda3\\lib\\site-packages (from nltk) (4.64.0)\n",
      "Requirement already satisfied: colorama in c:\\users\\hp\\appdata\\roaming\\python\\python39\\site-packages (from click->nltk) (0.4.6)\n"
     ]
    }
   ],
   "source": [
    "!pip install nltk"
   ]
  },
  {
   "cell_type": "code",
   "execution_count": 3,
   "id": "b94f1dfe",
   "metadata": {},
   "outputs": [],
   "source": [
    "paragraph = \"\"\"\n",
    "Michael Joseph Jackson (August 29, 1958 – June 25, 2009) was an American singer, songwriter, dancer, and philanthropist. Known as the \"King of Pop\", he is regarded as one of the most significant cultural figures of the 20th century. During his four-decade career, his contributions to music, dance, and fashion, along with his publicized personal life, made him a global figure in popular culture. Jackson influenced artists across many music genres. Through stage and video performances, he popularized complicated street dance moves such as the moonwalk, which he named, as well as the robot.\n",
    "\n",
    "The eighth child of the Jackson family, Jackson made his public debut in 1964 with his older brothers Jackie, Tito, Jermaine, and Marlon as a member of the Jackson 5 (later known as the Jacksons). Jackson began his solo career in 1971 while at Motown Records. He became a solo star with his 1979 album Off the Wall. His music videos, including those for \"Beat It\", \"Billie Jean\", and \"Thriller\" from his 1982 album Thriller, are credited with breaking racial barriers and transforming the medium into an art form and promotional tool. He helped propel the success of MTV and continued to innovate with the videos for his subsequent albums: Bad (1987), Dangerous (1991), HIStory: Past, Present and Future, Book I (1995), and Invincible (2001). Thriller became the best-selling album of all time, while Bad was the first album to produce five US Billboard Hot 100 number-one singles.[nb 1]\n",
    "\n",
    "From the late 1980s, Jackson became a figure of controversy and speculation due to his changing appearance, relationships, behavior, and lifestyle. In 1993, he was accused of sexually abusing the child of a family friend. The lawsuit was settled out of civil court; Jackson was not indicted due to lack of evidence. In 2005, he was tried and acquitted of further child sexual abuse allegations and several other charges. The FBI found no evidence of criminal conduct by Jackson in either case. In 2009, while he was preparing for a series of comeback concerts, This Is It, Jackson died from an overdose of propofol administered by his personal physician, Conrad Murray, who was convicted in 2011 of involuntary manslaughter for his involvement in Jackson's death. His death triggered reactions around the world, creating unprecedented surges of internet traffic and a spike in sales of his music. Jackson's televised memorial service, held at the Staples Center in Los Angeles, was estimated to have been viewed by more than 2.5 billion people.\n",
    "\n",
    "Jackson is one of the best-selling music artists of all time, with estimated sales of over 400 million records worldwide.[nb 2] He had 13 Billboard Hot 100 number-one singles (fourth highest of any artist in the Hot 100 era) and was the first artist to have a top-ten single on the Billboard Hot 100 in five different decades. His honors include 15 Grammy Awards, six Brit Awards, a Golden Globe Award, and 39 Guinness World Records, including the \"Most Successful Entertainer of All Time\". Jackson's inductions include the Rock and Roll Hall of Fame (twice), the Vocal Group Hall of Fame, the Songwriters Hall of Fame, the Dance Hall of Fame (making him the only recording artist to be inducted) and the Rhythm and Blues Music Hall of Fame.\"\"\""
   ]
  },
  {
   "cell_type": "code",
   "execution_count": null,
   "id": "0b9a58fd",
   "metadata": {},
   "outputs": [],
   "source": []
  },
  {
   "cell_type": "code",
   "execution_count": 5,
   "id": "5f7c4d5b",
   "metadata": {},
   "outputs": [
    {
     "name": "stdout",
     "output_type": "stream",
     "text": [
      "\n",
      "Michael Joseph Jackson (August 29, 1958 – June 25, 2009) was an American singer, songwriter, dancer, and philanthropist. Known as the \"King of Pop\", he is regarded as one of the most significant cultural figures of the 20th century. During his four-decade career, his contributions to music, dance, and fashion, along with his publicized personal life, made him a global figure in popular culture. Jackson influenced artists across many music genres. Through stage and video performances, he popularized complicated street dance moves such as the moonwalk, which he named, as well as the robot.\n",
      "\n",
      "The eighth child of the Jackson family, Jackson made his public debut in 1964 with his older brothers Jackie, Tito, Jermaine, and Marlon as a member of the Jackson 5 (later known as the Jacksons). Jackson began his solo career in 1971 while at Motown Records. He became a solo star with his 1979 album Off the Wall. His music videos, including those for \"Beat It\", \"Billie Jean\", and \"Thriller\" from his 1982 album Thriller, are credited with breaking racial barriers and transforming the medium into an art form and promotional tool. He helped propel the success of MTV and continued to innovate with the videos for his subsequent albums: Bad (1987), Dangerous (1991), HIStory: Past, Present and Future, Book I (1995), and Invincible (2001). Thriller became the best-selling album of all time, while Bad was the first album to produce five US Billboard Hot 100 number-one singles.[nb 1]\n",
      "\n",
      "From the late 1980s, Jackson became a figure of controversy and speculation due to his changing appearance, relationships, behavior, and lifestyle. In 1993, he was accused of sexually abusing the child of a family friend. The lawsuit was settled out of civil court; Jackson was not indicted due to lack of evidence. In 2005, he was tried and acquitted of further child sexual abuse allegations and several other charges. The FBI found no evidence of criminal conduct by Jackson in either case. In 2009, while he was preparing for a series of comeback concerts, This Is It, Jackson died from an overdose of propofol administered by his personal physician, Conrad Murray, who was convicted in 2011 of involuntary manslaughter for his involvement in Jackson's death. His death triggered reactions around the world, creating unprecedented surges of internet traffic and a spike in sales of his music. Jackson's televised memorial service, held at the Staples Center in Los Angeles, was estimated to have been viewed by more than 2.5 billion people.\n",
      "\n",
      "Jackson is one of the best-selling music artists of all time, with estimated sales of over 400 million records worldwide.[nb 2] He had 13 Billboard Hot 100 number-one singles (fourth highest of any artist in the Hot 100 era) and was the first artist to have a top-ten single on the Billboard Hot 100 in five different decades. His honors include 15 Grammy Awards, six Brit Awards, a Golden Globe Award, and 39 Guinness World Records, including the \"Most Successful Entertainer of All Time\". Jackson's inductions include the Rock and Roll Hall of Fame (twice), the Vocal Group Hall of Fame, the Songwriters Hall of Fame, the Dance Hall of Fame (making him the only recording artist to be inducted) and the Rhythm and Blues Music Hall of Fame.\n"
     ]
    }
   ],
   "source": [
    "print(paragraph)"
   ]
  },
  {
   "cell_type": "code",
   "execution_count": 6,
   "id": "5589b229",
   "metadata": {},
   "outputs": [],
   "source": [
    "import nltk \n",
    "from nltk.stem import PorterStemmer\n",
    "from nltk.corpus import stopwords"
   ]
  },
  {
   "cell_type": "code",
   "execution_count": 8,
   "id": "2b912f8c",
   "metadata": {},
   "outputs": [
    {
     "name": "stderr",
     "output_type": "stream",
     "text": [
      "[nltk_data] Downloading package punkt to\n",
      "[nltk_data]     C:\\Users\\hp\\AppData\\Roaming\\nltk_data...\n",
      "[nltk_data]   Unzipping tokenizers\\punkt.zip.\n"
     ]
    },
    {
     "data": {
      "text/plain": [
       "True"
      ]
     },
     "execution_count": 8,
     "metadata": {},
     "output_type": "execute_result"
    }
   ],
   "source": [
    "### tokenization convert\n",
    "## tokenization convert  paragraph sentence word\n",
    "nltk.download('punkt')"
   ]
  },
  {
   "cell_type": "code",
   "execution_count": 9,
   "id": "d89c6916",
   "metadata": {},
   "outputs": [],
   "source": [
    "sentence = nltk.sent_tokenize(paragraph)"
   ]
  },
  {
   "cell_type": "code",
   "execution_count": 10,
   "id": "3a077e24",
   "metadata": {},
   "outputs": [
    {
     "data": {
      "text/plain": [
       "['\\nMichael Joseph Jackson (August 29, 1958 – June 25, 2009) was an American singer, songwriter, dancer, and philanthropist.',\n",
       " 'Known as the \"King of Pop\", he is regarded as one of the most significant cultural figures of the 20th century.',\n",
       " 'During his four-decade career, his contributions to music, dance, and fashion, along with his publicized personal life, made him a global figure in popular culture.',\n",
       " 'Jackson influenced artists across many music genres.',\n",
       " 'Through stage and video performances, he popularized complicated street dance moves such as the moonwalk, which he named, as well as the robot.',\n",
       " 'The eighth child of the Jackson family, Jackson made his public debut in 1964 with his older brothers Jackie, Tito, Jermaine, and Marlon as a member of the Jackson 5 (later known as the Jacksons).',\n",
       " 'Jackson began his solo career in 1971 while at Motown Records.',\n",
       " 'He became a solo star with his 1979 album Off the Wall.',\n",
       " 'His music videos, including those for \"Beat It\", \"Billie Jean\", and \"Thriller\" from his 1982 album Thriller, are credited with breaking racial barriers and transforming the medium into an art form and promotional tool.',\n",
       " 'He helped propel the success of MTV and continued to innovate with the videos for his subsequent albums: Bad (1987), Dangerous (1991), HIStory: Past, Present and Future, Book I (1995), and Invincible (2001).',\n",
       " 'Thriller became the best-selling album of all time, while Bad was the first album to produce five US Billboard Hot 100 number-one singles.',\n",
       " '[nb 1]\\n\\nFrom the late 1980s, Jackson became a figure of controversy and speculation due to his changing appearance, relationships, behavior, and lifestyle.',\n",
       " 'In 1993, he was accused of sexually abusing the child of a family friend.',\n",
       " 'The lawsuit was settled out of civil court; Jackson was not indicted due to lack of evidence.',\n",
       " 'In 2005, he was tried and acquitted of further child sexual abuse allegations and several other charges.',\n",
       " 'The FBI found no evidence of criminal conduct by Jackson in either case.',\n",
       " \"In 2009, while he was preparing for a series of comeback concerts, This Is It, Jackson died from an overdose of propofol administered by his personal physician, Conrad Murray, who was convicted in 2011 of involuntary manslaughter for his involvement in Jackson's death.\",\n",
       " 'His death triggered reactions around the world, creating unprecedented surges of internet traffic and a spike in sales of his music.',\n",
       " \"Jackson's televised memorial service, held at the Staples Center in Los Angeles, was estimated to have been viewed by more than 2.5 billion people.\",\n",
       " 'Jackson is one of the best-selling music artists of all time, with estimated sales of over 400 million records worldwide.',\n",
       " '[nb 2] He had 13 Billboard Hot 100 number-one singles (fourth highest of any artist in the Hot 100 era) and was the first artist to have a top-ten single on the Billboard Hot 100 in five different decades.',\n",
       " 'His honors include 15 Grammy Awards, six Brit Awards, a Golden Globe Award, and 39 Guinness World Records, including the \"Most Successful Entertainer of All Time\".',\n",
       " \"Jackson's inductions include the Rock and Roll Hall of Fame (twice), the Vocal Group Hall of Fame, the Songwriters Hall of Fame, the Dance Hall of Fame (making him the only recording artist to be inducted) and the Rhythm and Blues Music Hall of Fame.\"]"
      ]
     },
     "execution_count": 10,
     "metadata": {},
     "output_type": "execute_result"
    }
   ],
   "source": [
    "sentence"
   ]
  },
  {
   "cell_type": "code",
   "execution_count": 11,
   "id": "1fd0026e",
   "metadata": {},
   "outputs": [
    {
     "data": {
      "text/plain": [
       "list"
      ]
     },
     "execution_count": 11,
     "metadata": {},
     "output_type": "execute_result"
    }
   ],
   "source": [
    "type(sentence)"
   ]
  },
  {
   "cell_type": "code",
   "execution_count": 12,
   "id": "b9a750e0",
   "metadata": {},
   "outputs": [],
   "source": [
    "stemmer = PorterStemmer()"
   ]
  },
  {
   "cell_type": "code",
   "execution_count": 13,
   "id": "044ef710",
   "metadata": {},
   "outputs": [
    {
     "data": {
      "text/plain": [
       "'go'"
      ]
     },
     "execution_count": 13,
     "metadata": {},
     "output_type": "execute_result"
    }
   ],
   "source": [
    "stemmer.stem(\"going\")"
   ]
  },
  {
   "cell_type": "code",
   "execution_count": 14,
   "id": "9aedb915",
   "metadata": {},
   "outputs": [
    {
     "data": {
      "text/plain": [
       "'histori'"
      ]
     },
     "execution_count": 14,
     "metadata": {},
     "output_type": "execute_result"
    }
   ],
   "source": [
    "stemmer.stem(\"history\") ## stemmer may provide meaningful/meaningless word"
   ]
  },
  {
   "cell_type": "code",
   "execution_count": 15,
   "id": "6d8029c9",
   "metadata": {},
   "outputs": [],
   "source": [
    "from nltk.stem import WordNetLemmatizer\n",
    "lemmatizer = WordNetLemmatizer()"
   ]
  },
  {
   "cell_type": "code",
   "execution_count": 19,
   "id": "ad05dd10",
   "metadata": {},
   "outputs": [
    {
     "name": "stderr",
     "output_type": "stream",
     "text": [
      "[nltk_data] Downloading package wordnet to\n",
      "[nltk_data]     C:\\Users\\hp\\AppData\\Roaming\\nltk_data...\n"
     ]
    },
    {
     "data": {
      "text/plain": [
       "True"
      ]
     },
     "execution_count": 19,
     "metadata": {},
     "output_type": "execute_result"
    }
   ],
   "source": [
    "nltk.download('wordnet')"
   ]
  },
  {
   "cell_type": "code",
   "execution_count": 21,
   "id": "430e3542",
   "metadata": {},
   "outputs": [
    {
     "name": "stderr",
     "output_type": "stream",
     "text": [
      "[nltk_data] Downloading package omw-1.4 to\n",
      "[nltk_data]     C:\\Users\\hp\\AppData\\Roaming\\nltk_data...\n"
     ]
    },
    {
     "data": {
      "text/plain": [
       "True"
      ]
     },
     "execution_count": 21,
     "metadata": {},
     "output_type": "execute_result"
    }
   ],
   "source": [
    "import nltk\n",
    "nltk.download('omw-1.4')"
   ]
  },
  {
   "cell_type": "code",
   "execution_count": 22,
   "id": "a209cc51",
   "metadata": {},
   "outputs": [
    {
     "data": {
      "text/plain": [
       "'history'"
      ]
     },
     "execution_count": 22,
     "metadata": {},
     "output_type": "execute_result"
    }
   ],
   "source": [
    "lemmatizer.lemmatize(\"history\") ## lemmatization always provide meaningful word"
   ]
  },
  {
   "cell_type": "code",
   "execution_count": 24,
   "id": "d736ddbf",
   "metadata": {},
   "outputs": [
    {
     "data": {
      "text/plain": [
       "'going'"
      ]
     },
     "execution_count": 24,
     "metadata": {},
     "output_type": "execute_result"
    }
   ],
   "source": [
    "lemmatizer.lemmatize(\"going\")"
   ]
  },
  {
   "cell_type": "code",
   "execution_count": 32,
   "id": "674ea634",
   "metadata": {},
   "outputs": [],
   "source": [
    "import re\n",
    "corpus = [re.sub('[^a-zA-Z ]', '', i.lower()) for i in sentence]"
   ]
  },
  {
   "cell_type": "code",
   "execution_count": 33,
   "id": "50539082",
   "metadata": {},
   "outputs": [
    {
     "data": {
      "text/plain": [
       "['michael joseph jackson august    june   was an american singer songwriter dancer and philanthropist',\n",
       " 'known as the king of pop he is regarded as one of the most significant cultural figures of the th century',\n",
       " 'during his fourdecade career his contributions to music dance and fashion along with his publicized personal life made him a global figure in popular culture',\n",
       " 'jackson influenced artists across many music genres',\n",
       " 'through stage and video performances he popularized complicated street dance moves such as the moonwalk which he named as well as the robot',\n",
       " 'the eighth child of the jackson family jackson made his public debut in  with his older brothers jackie tito jermaine and marlon as a member of the jackson  later known as the jacksons',\n",
       " 'jackson began his solo career in  while at motown records',\n",
       " 'he became a solo star with his  album off the wall',\n",
       " 'his music videos including those for beat it billie jean and thriller from his  album thriller are credited with breaking racial barriers and transforming the medium into an art form and promotional tool',\n",
       " 'he helped propel the success of mtv and continued to innovate with the videos for his subsequent albums bad  dangerous  history past present and future book i  and invincible ',\n",
       " 'thriller became the bestselling album of all time while bad was the first album to produce five us billboard hot  numberone singles',\n",
       " 'nb from the late s jackson became a figure of controversy and speculation due to his changing appearance relationships behavior and lifestyle',\n",
       " 'in  he was accused of sexually abusing the child of a family friend',\n",
       " 'the lawsuit was settled out of civil court jackson was not indicted due to lack of evidence',\n",
       " 'in  he was tried and acquitted of further child sexual abuse allegations and several other charges',\n",
       " 'the fbi found no evidence of criminal conduct by jackson in either case',\n",
       " 'in  while he was preparing for a series of comeback concerts this is it jackson died from an overdose of propofol administered by his personal physician conrad murray who was convicted in  of involuntary manslaughter for his involvement in jacksons death',\n",
       " 'his death triggered reactions around the world creating unprecedented surges of internet traffic and a spike in sales of his music',\n",
       " 'jacksons televised memorial service held at the staples center in los angeles was estimated to have been viewed by more than  billion people',\n",
       " 'jackson is one of the bestselling music artists of all time with estimated sales of over  million records worldwide',\n",
       " 'nb  he had  billboard hot  numberone singles fourth highest of any artist in the hot  era and was the first artist to have a topten single on the billboard hot  in five different decades',\n",
       " 'his honors include  grammy awards six brit awards a golden globe award and  guinness world records including the most successful entertainer of all time',\n",
       " 'jacksons inductions include the rock and roll hall of fame twice the vocal group hall of fame the songwriters hall of fame the dance hall of fame making him the only recording artist to be inducted and the rhythm and blues music hall of fame']"
      ]
     },
     "execution_count": 33,
     "metadata": {},
     "output_type": "execute_result"
    }
   ],
   "source": [
    "corpus"
   ]
  },
  {
   "cell_type": "code",
   "execution_count": 39,
   "id": "d7a3d8eb",
   "metadata": {},
   "outputs": [
    {
     "name": "stderr",
     "output_type": "stream",
     "text": [
      "[nltk_data] Downloading package stopwords to\n",
      "[nltk_data]     C:\\Users\\hp\\AppData\\Roaming\\nltk_data...\n",
      "[nltk_data]   Unzipping corpora\\stopwords.zip.\n"
     ]
    },
    {
     "data": {
      "text/plain": [
       "True"
      ]
     },
     "execution_count": 39,
     "metadata": {},
     "output_type": "execute_result"
    }
   ],
   "source": [
    "import nltk\n",
    "nltk.download('stopwords')\n"
   ]
  },
  {
   "cell_type": "code",
   "execution_count": 40,
   "id": "d76970eb",
   "metadata": {},
   "outputs": [
    {
     "name": "stdout",
     "output_type": "stream",
     "text": [
      "michael\n",
      "joseph\n",
      "jackson\n",
      "august\n",
      "june\n",
      "american\n",
      "singer\n",
      "songwrit\n",
      "dancer\n",
      "philanthropist\n",
      "known\n",
      "king\n",
      "pop\n",
      "regard\n",
      "one\n",
      "signific\n",
      "cultur\n",
      "figur\n",
      "th\n",
      "centuri\n",
      "fourdecad\n",
      "career\n",
      "contribut\n",
      "music\n",
      "danc\n",
      "fashion\n",
      "along\n",
      "public\n",
      "person\n",
      "life\n",
      "made\n",
      "global\n",
      "figur\n",
      "popular\n",
      "cultur\n",
      "jackson\n",
      "influenc\n",
      "artist\n",
      "across\n",
      "mani\n",
      "music\n",
      "genr\n",
      "stage\n",
      "video\n",
      "perform\n",
      "popular\n",
      "complic\n",
      "street\n",
      "danc\n",
      "move\n",
      "moonwalk\n",
      "name\n",
      "well\n",
      "robot\n",
      "eighth\n",
      "child\n",
      "jackson\n",
      "famili\n",
      "jackson\n",
      "made\n",
      "public\n",
      "debut\n",
      "older\n",
      "brother\n",
      "jacki\n",
      "tito\n",
      "jermain\n",
      "marlon\n",
      "member\n",
      "jackson\n",
      "later\n",
      "known\n",
      "jackson\n",
      "jackson\n",
      "began\n",
      "solo\n",
      "career\n",
      "motown\n",
      "record\n",
      "becam\n",
      "solo\n",
      "star\n",
      "album\n",
      "wall\n",
      "music\n",
      "video\n",
      "includ\n",
      "beat\n",
      "billi\n",
      "jean\n",
      "thriller\n",
      "album\n",
      "thriller\n",
      "credit\n",
      "break\n",
      "racial\n",
      "barrier\n",
      "transform\n",
      "medium\n",
      "art\n",
      "form\n",
      "promot\n",
      "tool\n",
      "help\n",
      "propel\n",
      "success\n",
      "mtv\n",
      "continu\n",
      "innov\n",
      "video\n",
      "subsequ\n",
      "album\n",
      "bad\n",
      "danger\n",
      "histori\n",
      "past\n",
      "present\n",
      "futur\n",
      "book\n",
      "invinc\n",
      "thriller\n",
      "becam\n",
      "bestsel\n",
      "album\n",
      "time\n",
      "bad\n",
      "first\n",
      "album\n",
      "produc\n",
      "five\n",
      "us\n",
      "billboard\n",
      "hot\n",
      "numberon\n",
      "singl\n",
      "nb\n",
      "late\n",
      "jackson\n",
      "becam\n",
      "figur\n",
      "controversi\n",
      "specul\n",
      "due\n",
      "chang\n",
      "appear\n",
      "relationship\n",
      "behavior\n",
      "lifestyl\n",
      "accus\n",
      "sexual\n",
      "abus\n",
      "child\n",
      "famili\n",
      "friend\n",
      "lawsuit\n",
      "settl\n",
      "civil\n",
      "court\n",
      "jackson\n",
      "indict\n",
      "due\n",
      "lack\n",
      "evid\n",
      "tri\n",
      "acquit\n",
      "child\n",
      "sexual\n",
      "abus\n",
      "alleg\n",
      "sever\n",
      "charg\n",
      "fbi\n",
      "found\n",
      "evid\n",
      "crimin\n",
      "conduct\n",
      "jackson\n",
      "either\n",
      "case\n",
      "prepar\n",
      "seri\n",
      "comeback\n",
      "concert\n",
      "jackson\n",
      "die\n",
      "overdos\n",
      "propofol\n",
      "administ\n",
      "person\n",
      "physician\n",
      "conrad\n",
      "murray\n",
      "convict\n",
      "involuntari\n",
      "manslaught\n",
      "involv\n",
      "jackson\n",
      "death\n",
      "death\n",
      "trigger\n",
      "reaction\n",
      "around\n",
      "world\n",
      "creat\n",
      "unpreced\n",
      "surg\n",
      "internet\n",
      "traffic\n",
      "spike\n",
      "sale\n",
      "music\n",
      "jackson\n",
      "televis\n",
      "memori\n",
      "servic\n",
      "held\n",
      "stapl\n",
      "center\n",
      "lo\n",
      "angel\n",
      "estim\n",
      "view\n",
      "billion\n",
      "peopl\n",
      "jackson\n",
      "one\n",
      "bestsel\n",
      "music\n",
      "artist\n",
      "time\n",
      "estim\n",
      "sale\n",
      "million\n",
      "record\n",
      "worldwid\n",
      "nb\n",
      "billboard\n",
      "hot\n",
      "numberon\n",
      "singl\n",
      "fourth\n",
      "highest\n",
      "artist\n",
      "hot\n",
      "era\n",
      "first\n",
      "artist\n",
      "topten\n",
      "singl\n",
      "billboard\n",
      "hot\n",
      "five\n",
      "differ\n",
      "decad\n",
      "honor\n",
      "includ\n",
      "grammi\n",
      "award\n",
      "six\n",
      "brit\n",
      "award\n",
      "golden\n",
      "globe\n",
      "award\n",
      "guin\n",
      "world\n",
      "record\n",
      "includ\n",
      "success\n",
      "entertain\n",
      "time\n",
      "jackson\n",
      "induct\n",
      "includ\n",
      "rock\n",
      "roll\n",
      "hall\n",
      "fame\n",
      "twice\n",
      "vocal\n",
      "group\n",
      "hall\n",
      "fame\n",
      "songwrit\n",
      "hall\n",
      "fame\n",
      "danc\n",
      "hall\n",
      "fame\n",
      "make\n",
      "record\n",
      "artist\n",
      "induct\n",
      "rhythm\n",
      "blue\n",
      "music\n",
      "hall\n",
      "fame\n"
     ]
    }
   ],
   "source": [
    "### stemming\n",
    "for i in corpus:\n",
    "    words = nltk.word_tokenize(i)\n",
    "    for word in words:\n",
    "        if word not in set(stopwords.words('english')):\n",
    "            print(stemmer.stem(word))"
   ]
  },
  {
   "cell_type": "code",
   "execution_count": 50,
   "id": "aa6ffd0f",
   "metadata": {},
   "outputs": [],
   "source": [
    "##Apply stopwords.lemmatize\n",
    "corpus = []\n",
    "for i in range(len(sentence)):\n",
    "    review = re.sub('[^a-bA-Z]',' ',sentence[i])\n",
    "    review = review.lower()\n",
    "    review = review.split()\n",
    "    review = [lemmatizer.lemmatize(word) for word in review if not word in set(stopwords.words('english'))]\n",
    "    review = ' '.join(review)\n",
    "    corpus.append(review)"
   ]
  },
  {
   "cell_type": "code",
   "execution_count": 51,
   "id": "9ca93260",
   "metadata": {},
   "outputs": [
    {
     "data": {
      "text/plain": [
       "['j ja j',\n",
       " 'k k p',\n",
       " 'b b ba',\n",
       " 'ja',\n",
       " 'b',\n",
       " 'ja ja b b b ja j b ja ja',\n",
       " 'ja b r',\n",
       " 'h b b wa',\n",
       " 'h b b j b b ba',\n",
       " 'h mtv b b ba da pa p f b b',\n",
       " 'b b b ba b u b b h b',\n",
       " 'b f ja b b',\n",
       " 'ab',\n",
       " 'ja',\n",
       " 'ab',\n",
       " 'fbi b ja',\n",
       " 'ba ja b c ja',\n",
       " 'h',\n",
       " 'ja c l b b b',\n",
       " 'ja b',\n",
       " 'b h b b h b h b b h',\n",
       " 'h g b g g b g w r e',\n",
       " 'ja r r ha fa v g ha fa ha fa da ha fa b r b ha fa']"
      ]
     },
     "execution_count": 51,
     "metadata": {},
     "output_type": "execute_result"
    }
   ],
   "source": [
    "corpus"
   ]
  },
  {
   "cell_type": "code",
   "execution_count": 41,
   "id": "411d660d",
   "metadata": {},
   "outputs": [],
   "source": [
    "from sklearn.feature_extraction.text import CountVectorizer\n",
    "cv = CountVectorizer()\n",
    "X=cv.fit_transform(corpus)"
   ]
  },
  {
   "cell_type": "code",
   "execution_count": 44,
   "id": "ab2f785c",
   "metadata": {},
   "outputs": [
    {
     "data": {
      "text/plain": [
       "{'michael': 159,\n",
       " 'joseph': 140,\n",
       " 'jackson': 136,\n",
       " 'august': 24,\n",
       " 'june': 141,\n",
       " 'was': 262,\n",
       " 'an': 12,\n",
       " 'american': 11,\n",
       " 'singer': 219,\n",
       " 'songwriter': 224,\n",
       " 'dancer': 69,\n",
       " 'and': 13,\n",
       " 'philanthropist': 188,\n",
       " 'known': 143,\n",
       " 'as': 22,\n",
       " 'the': 240,\n",
       " 'king': 142,\n",
       " 'of': 174,\n",
       " 'pop': 190,\n",
       " 'he': 111,\n",
       " 'is': 133,\n",
       " 'regarded': 205,\n",
       " 'one': 178,\n",
       " 'most': 163,\n",
       " 'significant': 218,\n",
       " 'cultural': 66,\n",
       " 'figures': 89,\n",
       " 'th': 238,\n",
       " 'century': 48,\n",
       " 'during': 77,\n",
       " 'his': 116,\n",
       " 'fourdecade': 95,\n",
       " 'career': 45,\n",
       " 'contributions': 59,\n",
       " 'to': 247,\n",
       " 'music': 168,\n",
       " 'dance': 68,\n",
       " 'fashion': 86,\n",
       " 'along': 10,\n",
       " 'with': 267,\n",
       " 'publicized': 200,\n",
       " 'personal': 187,\n",
       " 'life': 148,\n",
       " 'made': 151,\n",
       " 'him': 115,\n",
       " 'global': 102,\n",
       " 'figure': 88,\n",
       " 'in': 120,\n",
       " 'popular': 191,\n",
       " 'culture': 67,\n",
       " 'influenced': 126,\n",
       " 'artists': 21,\n",
       " 'across': 4,\n",
       " 'many': 154,\n",
       " 'genres': 101,\n",
       " 'through': 244,\n",
       " 'stage': 228,\n",
       " 'video': 257,\n",
       " 'performances': 186,\n",
       " 'popularized': 192,\n",
       " 'complicated': 54,\n",
       " 'street': 231,\n",
       " 'moves': 165,\n",
       " 'such': 235,\n",
       " 'moonwalk': 161,\n",
       " 'which': 264,\n",
       " 'named': 169,\n",
       " 'well': 263,\n",
       " 'robot': 208,\n",
       " 'eighth': 78,\n",
       " 'child': 51,\n",
       " 'family': 85,\n",
       " 'public': 199,\n",
       " 'debut': 72,\n",
       " 'older': 176,\n",
       " 'brothers': 43,\n",
       " 'jackie': 135,\n",
       " 'tito': 246,\n",
       " 'jermaine': 139,\n",
       " 'marlon': 155,\n",
       " 'member': 157,\n",
       " 'later': 146,\n",
       " 'jacksons': 137,\n",
       " 'began': 33,\n",
       " 'solo': 223,\n",
       " 'while': 265,\n",
       " 'at': 23,\n",
       " 'motown': 164,\n",
       " 'records': 204,\n",
       " 'became': 31,\n",
       " 'star': 230,\n",
       " 'album': 6,\n",
       " 'off': 175,\n",
       " 'wall': 261,\n",
       " 'videos': 258,\n",
       " 'including': 122,\n",
       " 'those': 242,\n",
       " 'for': 92,\n",
       " 'beat': 30,\n",
       " 'it': 134,\n",
       " 'billie': 37,\n",
       " 'jean': 138,\n",
       " 'thriller': 243,\n",
       " 'from': 98,\n",
       " 'are': 17,\n",
       " 'credited': 64,\n",
       " 'breaking': 41,\n",
       " 'racial': 201,\n",
       " 'barriers': 28,\n",
       " 'transforming': 251,\n",
       " 'medium': 156,\n",
       " 'into': 129,\n",
       " 'art': 19,\n",
       " 'form': 93,\n",
       " 'promotional': 196,\n",
       " 'tool': 248,\n",
       " 'helped': 113,\n",
       " 'propel': 197,\n",
       " 'success': 233,\n",
       " 'mtv': 166,\n",
       " 'continued': 58,\n",
       " 'innovate': 127,\n",
       " 'subsequent': 232,\n",
       " 'albums': 7,\n",
       " 'bad': 27,\n",
       " 'dangerous': 70,\n",
       " 'history': 117,\n",
       " 'past': 184,\n",
       " 'present': 194,\n",
       " 'future': 100,\n",
       " 'book': 40,\n",
       " 'invincible': 130,\n",
       " 'bestselling': 35,\n",
       " 'all': 8,\n",
       " 'time': 245,\n",
       " 'first': 90,\n",
       " 'produce': 195,\n",
       " 'five': 91,\n",
       " 'us': 256,\n",
       " 'billboard': 36,\n",
       " 'hot': 119,\n",
       " 'numberone': 173,\n",
       " 'singles': 221,\n",
       " 'nb': 170,\n",
       " 'late': 145,\n",
       " 'controversy': 60,\n",
       " 'speculation': 226,\n",
       " 'due': 76,\n",
       " 'changing': 49,\n",
       " 'appearance': 16,\n",
       " 'relationships': 206,\n",
       " 'behavior': 34,\n",
       " 'lifestyle': 149,\n",
       " 'accused': 2,\n",
       " 'sexually': 217,\n",
       " 'abusing': 1,\n",
       " 'friend': 97,\n",
       " 'lawsuit': 147,\n",
       " 'settled': 214,\n",
       " 'out': 181,\n",
       " 'civil': 52,\n",
       " 'court': 62,\n",
       " 'not': 172,\n",
       " 'indicted': 123,\n",
       " 'lack': 144,\n",
       " 'evidence': 83,\n",
       " 'tried': 252,\n",
       " 'acquitted': 3,\n",
       " 'further': 99,\n",
       " 'sexual': 216,\n",
       " 'abuse': 0,\n",
       " 'allegations': 9,\n",
       " 'several': 215,\n",
       " 'other': 180,\n",
       " 'charges': 50,\n",
       " 'fbi': 87,\n",
       " 'found': 94,\n",
       " 'no': 171,\n",
       " 'criminal': 65,\n",
       " 'conduct': 56,\n",
       " 'by': 44,\n",
       " 'either': 79,\n",
       " 'case': 46,\n",
       " 'preparing': 193,\n",
       " 'series': 212,\n",
       " 'comeback': 53,\n",
       " 'concerts': 55,\n",
       " 'this': 241,\n",
       " 'died': 74,\n",
       " 'overdose': 183,\n",
       " 'propofol': 198,\n",
       " 'administered': 5,\n",
       " 'physician': 189,\n",
       " 'conrad': 57,\n",
       " 'murray': 167,\n",
       " 'who': 266,\n",
       " 'convicted': 61,\n",
       " 'involuntary': 131,\n",
       " 'manslaughter': 153,\n",
       " 'involvement': 132,\n",
       " 'death': 71,\n",
       " 'triggered': 253,\n",
       " 'reactions': 202,\n",
       " 'around': 18,\n",
       " 'world': 268,\n",
       " 'creating': 63,\n",
       " 'unprecedented': 255,\n",
       " 'surges': 236,\n",
       " 'internet': 128,\n",
       " 'traffic': 250,\n",
       " 'spike': 227,\n",
       " 'sales': 211,\n",
       " 'televised': 237,\n",
       " 'memorial': 158,\n",
       " 'service': 213,\n",
       " 'held': 112,\n",
       " 'staples': 229,\n",
       " 'center': 47,\n",
       " 'los': 150,\n",
       " 'angeles': 14,\n",
       " 'estimated': 82,\n",
       " 'have': 110,\n",
       " 'been': 32,\n",
       " 'viewed': 259,\n",
       " 'more': 162,\n",
       " 'than': 239,\n",
       " 'billion': 38,\n",
       " 'people': 185,\n",
       " 'over': 182,\n",
       " 'million': 160,\n",
       " 'worldwide': 269,\n",
       " 'had': 108,\n",
       " 'fourth': 96,\n",
       " 'highest': 114,\n",
       " 'any': 15,\n",
       " 'artist': 20,\n",
       " 'era': 81,\n",
       " 'topten': 249,\n",
       " 'single': 220,\n",
       " 'on': 177,\n",
       " 'different': 75,\n",
       " 'decades': 73,\n",
       " 'honors': 118,\n",
       " 'include': 121,\n",
       " 'grammy': 105,\n",
       " 'awards': 26,\n",
       " 'six': 222,\n",
       " 'brit': 42,\n",
       " 'golden': 104,\n",
       " 'globe': 103,\n",
       " 'award': 25,\n",
       " 'guinness': 107,\n",
       " 'successful': 234,\n",
       " 'entertainer': 80,\n",
       " 'inductions': 125,\n",
       " 'rock': 209,\n",
       " 'roll': 210,\n",
       " 'hall': 109,\n",
       " 'fame': 84,\n",
       " 'twice': 254,\n",
       " 'vocal': 260,\n",
       " 'group': 106,\n",
       " 'songwriters': 225,\n",
       " 'making': 152,\n",
       " 'only': 179,\n",
       " 'recording': 203,\n",
       " 'be': 29,\n",
       " 'inducted': 124,\n",
       " 'rhythm': 207,\n",
       " 'blues': 39}"
      ]
     },
     "execution_count": 44,
     "metadata": {},
     "output_type": "execute_result"
    }
   ],
   "source": [
    "cv.vocabulary_"
   ]
  },
  {
   "cell_type": "code",
   "execution_count": 45,
   "id": "8e55b3a0",
   "metadata": {},
   "outputs": [
    {
     "data": {
      "text/plain": [
       "'michael joseph jackson august    june   was an american singer songwriter dancer and philanthropist'"
      ]
     },
     "execution_count": 45,
     "metadata": {},
     "output_type": "execute_result"
    }
   ],
   "source": [
    "corpus[0]"
   ]
  },
  {
   "cell_type": "code",
   "execution_count": 47,
   "id": "2f40addd",
   "metadata": {},
   "outputs": [
    {
     "data": {
      "text/plain": [
       "array([[0, 0, 0, 0, 0, 0, 0, 0, 0, 0, 0, 1, 1, 1, 0, 0, 0, 0, 0, 0, 0, 0,\n",
       "        0, 0, 1, 0, 0, 0, 0, 0, 0, 0, 0, 0, 0, 0, 0, 0, 0, 0, 0, 0, 0, 0,\n",
       "        0, 0, 0, 0, 0, 0, 0, 0, 0, 0, 0, 0, 0, 0, 0, 0, 0, 0, 0, 0, 0, 0,\n",
       "        0, 0, 0, 1, 0, 0, 0, 0, 0, 0, 0, 0, 0, 0, 0, 0, 0, 0, 0, 0, 0, 0,\n",
       "        0, 0, 0, 0, 0, 0, 0, 0, 0, 0, 0, 0, 0, 0, 0, 0, 0, 0, 0, 0, 0, 0,\n",
       "        0, 0, 0, 0, 0, 0, 0, 0, 0, 0, 0, 0, 0, 0, 0, 0, 0, 0, 0, 0, 0, 0,\n",
       "        0, 0, 0, 0, 1, 0, 0, 0, 1, 1, 0, 0, 0, 0, 0, 0, 0, 0, 0, 0, 0, 0,\n",
       "        0, 0, 0, 0, 0, 1, 0, 0, 0, 0, 0, 0, 0, 0, 0, 0, 0, 0, 0, 0, 0, 0,\n",
       "        0, 0, 0, 0, 0, 0, 0, 0, 0, 0, 0, 0, 1, 0, 0, 0, 0, 0, 0, 0, 0, 0,\n",
       "        0, 0, 0, 0, 0, 0, 0, 0, 0, 0, 0, 0, 0, 0, 0, 0, 0, 0, 0, 0, 0, 1,\n",
       "        0, 0, 0, 0, 1, 0, 0, 0, 0, 0, 0, 0, 0, 0, 0, 0, 0, 0, 0, 0, 0, 0,\n",
       "        0, 0, 0, 0, 0, 0, 0, 0, 0, 0, 0, 0, 0, 0, 0, 0, 0, 0, 0, 0, 1, 0,\n",
       "        0, 0, 0, 0, 0, 0]], dtype=int64)"
      ]
     },
     "execution_count": 47,
     "metadata": {},
     "output_type": "execute_result"
    }
   ],
   "source": [
    "X[0].toarray()"
   ]
  },
  {
   "cell_type": "code",
   "execution_count": null,
   "id": "935fd0b5",
   "metadata": {},
   "outputs": [],
   "source": []
  }
 ],
 "metadata": {
  "kernelspec": {
   "display_name": "Python 3 (ipykernel)",
   "language": "python",
   "name": "python3"
  },
  "language_info": {
   "codemirror_mode": {
    "name": "ipython",
    "version": 3
   },
   "file_extension": ".py",
   "mimetype": "text/x-python",
   "name": "python",
   "nbconvert_exporter": "python",
   "pygments_lexer": "ipython3",
   "version": "3.9.12"
  }
 },
 "nbformat": 4,
 "nbformat_minor": 5
}
